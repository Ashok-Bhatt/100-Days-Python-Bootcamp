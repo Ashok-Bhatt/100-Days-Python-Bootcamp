{
  "cells": [
    {
      "cell_type": "markdown",
      "metadata": {
        "id": "gltiGJhvrzaL"
      },
      "source": [
        "# Introduction\n",
        "\n",
        "Do higher film budgets lead to more box office revenue? Let's find out if there's a relationship using the movie budgets and financial performance data that I've scraped from [the-numbers.com](https://www.the-numbers.com/movie/budgets) on **May 1st, 2018**. \n",
        "\n",
        "<img src=https://i.imgur.com/kq7hrEh.png>"
      ]
    },
    {
      "cell_type": "markdown",
      "metadata": {
        "id": "zkLrvlKvtdih"
      },
      "source": [
        "# Import Statements"
      ]
    },
    {
      "cell_type": "code",
      "execution_count": 1,
      "metadata": {
        "id": "NpDk_q_Urroj"
      },
      "outputs": [],
      "source": [
        "import pandas as pd\n",
        "import matplotlib.pyplot as plt\n",
        "import seaborn as sns"
      ]
    },
    {
      "cell_type": "markdown",
      "metadata": {
        "id": "x5B-UDvXtnC6"
      },
      "source": [
        "# Notebook Presentation"
      ]
    },
    {
      "cell_type": "code",
      "execution_count": 2,
      "metadata": {
        "id": "nM_otvWztjpT"
      },
      "outputs": [],
      "source": [
        "pd.options.display.float_format = '{:,.2f}'.format\n",
        "\n",
        "from pandas.plotting import register_matplotlib_converters\n",
        "register_matplotlib_converters()"
      ]
    },
    {
      "cell_type": "markdown",
      "metadata": {
        "id": "v-fnwNYJtthe"
      },
      "source": [
        "# Read the Data"
      ]
    },
    {
      "cell_type": "code",
      "execution_count": 3,
      "metadata": {
        "id": "xhwvQQWitrf4"
      },
      "outputs": [],
      "source": [
        "data = pd.read_csv('cost_revenue_dirty.csv')"
      ]
    },
    {
      "cell_type": "code",
      "execution_count": 4,
      "metadata": {},
      "outputs": [
        {
          "data": {
            "text/html": [
              "<div>\n",
              "<style scoped>\n",
              "    .dataframe tbody tr th:only-of-type {\n",
              "        vertical-align: middle;\n",
              "    }\n",
              "\n",
              "    .dataframe tbody tr th {\n",
              "        vertical-align: top;\n",
              "    }\n",
              "\n",
              "    .dataframe thead th {\n",
              "        text-align: right;\n",
              "    }\n",
              "</style>\n",
              "<table border=\"1\" class=\"dataframe\">\n",
              "  <thead>\n",
              "    <tr style=\"text-align: right;\">\n",
              "      <th></th>\n",
              "      <th>Rank</th>\n",
              "      <th>Release_Date</th>\n",
              "      <th>Movie_Title</th>\n",
              "      <th>USD_Production_Budget</th>\n",
              "      <th>USD_Worldwide_Gross</th>\n",
              "      <th>USD_Domestic_Gross</th>\n",
              "    </tr>\n",
              "  </thead>\n",
              "  <tbody>\n",
              "    <tr>\n",
              "      <th>0</th>\n",
              "      <td>5293</td>\n",
              "      <td>8/2/1915</td>\n",
              "      <td>The Birth of a Nation</td>\n",
              "      <td>$110,000</td>\n",
              "      <td>$11,000,000</td>\n",
              "      <td>$10,000,000</td>\n",
              "    </tr>\n",
              "    <tr>\n",
              "      <th>1</th>\n",
              "      <td>5140</td>\n",
              "      <td>5/9/1916</td>\n",
              "      <td>Intolerance</td>\n",
              "      <td>$385,907</td>\n",
              "      <td>$0</td>\n",
              "      <td>$0</td>\n",
              "    </tr>\n",
              "    <tr>\n",
              "      <th>2</th>\n",
              "      <td>5230</td>\n",
              "      <td>12/24/1916</td>\n",
              "      <td>20,000 Leagues Under the Sea</td>\n",
              "      <td>$200,000</td>\n",
              "      <td>$8,000,000</td>\n",
              "      <td>$8,000,000</td>\n",
              "    </tr>\n",
              "    <tr>\n",
              "      <th>3</th>\n",
              "      <td>5299</td>\n",
              "      <td>9/17/1920</td>\n",
              "      <td>Over the Hill to the Poorhouse</td>\n",
              "      <td>$100,000</td>\n",
              "      <td>$3,000,000</td>\n",
              "      <td>$3,000,000</td>\n",
              "    </tr>\n",
              "    <tr>\n",
              "      <th>4</th>\n",
              "      <td>5222</td>\n",
              "      <td>1/1/1925</td>\n",
              "      <td>The Big Parade</td>\n",
              "      <td>$245,000</td>\n",
              "      <td>$22,000,000</td>\n",
              "      <td>$11,000,000</td>\n",
              "    </tr>\n",
              "  </tbody>\n",
              "</table>\n",
              "</div>"
            ],
            "text/plain": [
              "   Rank Release_Date                     Movie_Title USD_Production_Budget  \\\n",
              "0  5293     8/2/1915           The Birth of a Nation              $110,000   \n",
              "1  5140     5/9/1916                     Intolerance              $385,907   \n",
              "2  5230   12/24/1916    20,000 Leagues Under the Sea              $200,000   \n",
              "3  5299    9/17/1920  Over the Hill to the Poorhouse              $100,000   \n",
              "4  5222     1/1/1925                  The Big Parade              $245,000   \n",
              "\n",
              "  USD_Worldwide_Gross USD_Domestic_Gross  \n",
              "0         $11,000,000        $10,000,000  \n",
              "1                  $0                 $0  \n",
              "2          $8,000,000         $8,000,000  \n",
              "3          $3,000,000         $3,000,000  \n",
              "4         $22,000,000        $11,000,000  "
            ]
          },
          "execution_count": 4,
          "metadata": {},
          "output_type": "execute_result"
        }
      ],
      "source": [
        "data.head()"
      ]
    },
    {
      "cell_type": "markdown",
      "metadata": {
        "id": "tbg8_J5SuHhs"
      },
      "source": [
        "# Explore and Clean the Data"
      ]
    },
    {
      "cell_type": "markdown",
      "metadata": {
        "id": "xAtdcURCuL0Z"
      },
      "source": [
        "**Challenge**: Answer these questions about the dataset:\n",
        "1. How many rows and columns does the dataset contain?\n",
        "2. Are there any NaN values present?\n",
        "3. Are there any duplicate rows?\n",
        "4. What are the data types of the columns?"
      ]
    },
    {
      "cell_type": "code",
      "execution_count": 5,
      "metadata": {
        "id": "PV3KLBSVTMDN"
      },
      "outputs": [
        {
          "data": {
            "text/plain": [
              "(5392, 6)"
            ]
          },
          "execution_count": 5,
          "metadata": {},
          "output_type": "execute_result"
        }
      ],
      "source": [
        "data.shape"
      ]
    },
    {
      "cell_type": "code",
      "execution_count": 6,
      "metadata": {},
      "outputs": [
        {
          "name": "stdout",
          "output_type": "stream",
          "text": [
            "<class 'pandas.core.frame.DataFrame'>\n",
            "RangeIndex: 5392 entries, 0 to 5391\n",
            "Data columns (total 6 columns):\n",
            " #   Column                 Non-Null Count  Dtype \n",
            "---  ------                 --------------  ----- \n",
            " 0   Rank                   5392 non-null   int64 \n",
            " 1   Release_Date           5392 non-null   object\n",
            " 2   Movie_Title            5392 non-null   object\n",
            " 3   USD_Production_Budget  5392 non-null   object\n",
            " 4   USD_Worldwide_Gross    5392 non-null   object\n",
            " 5   USD_Domestic_Gross     5392 non-null   object\n",
            "dtypes: int64(1), object(5)\n",
            "memory usage: 252.9+ KB\n"
          ]
        }
      ],
      "source": [
        "data.info()"
      ]
    },
    {
      "cell_type": "code",
      "execution_count": 7,
      "metadata": {},
      "outputs": [
        {
          "data": {
            "text/plain": [
              "False"
            ]
          },
          "execution_count": 7,
          "metadata": {},
          "output_type": "execute_result"
        }
      ],
      "source": [
        "# data.isna() will convert current dataframe such that each entry in the dataframe is replaced with boolean value showing if that entry is na or not\n",
        "# values() will convert above dataframe into 2D array\n",
        "# any returns true if any element of above 2D array is True (i.e. any value is NaN)\n",
        "data.isna().values.any()"
      ]
    },
    {
      "cell_type": "code",
      "execution_count": 8,
      "metadata": {},
      "outputs": [
        {
          "data": {
            "text/html": [
              "<div>\n",
              "<style scoped>\n",
              "    .dataframe tbody tr th:only-of-type {\n",
              "        vertical-align: middle;\n",
              "    }\n",
              "\n",
              "    .dataframe tbody tr th {\n",
              "        vertical-align: top;\n",
              "    }\n",
              "\n",
              "    .dataframe thead th {\n",
              "        text-align: right;\n",
              "    }\n",
              "</style>\n",
              "<table border=\"1\" class=\"dataframe\">\n",
              "  <thead>\n",
              "    <tr style=\"text-align: right;\">\n",
              "      <th></th>\n",
              "      <th>Rank</th>\n",
              "      <th>Release_Date</th>\n",
              "      <th>Movie_Title</th>\n",
              "      <th>USD_Production_Budget</th>\n",
              "      <th>USD_Worldwide_Gross</th>\n",
              "      <th>USD_Domestic_Gross</th>\n",
              "    </tr>\n",
              "  </thead>\n",
              "  <tbody>\n",
              "    <tr>\n",
              "      <th>5391</th>\n",
              "      <td>2517</td>\n",
              "      <td>12/31/2020</td>\n",
              "      <td>Story of Bonnie and Clyde, The</td>\n",
              "      <td>$20,000,000</td>\n",
              "      <td>$0</td>\n",
              "      <td>$0</td>\n",
              "    </tr>\n",
              "  </tbody>\n",
              "</table>\n",
              "</div>"
            ],
            "text/plain": [
              "      Rank Release_Date                     Movie_Title USD_Production_Budget  \\\n",
              "5391  2517   12/31/2020  Story of Bonnie and Clyde, The           $20,000,000   \n",
              "\n",
              "     USD_Worldwide_Gross USD_Domestic_Gross  \n",
              "5391                  $0                 $0  "
            ]
          },
          "execution_count": 8,
          "metadata": {},
          "output_type": "execute_result"
        }
      ],
      "source": [
        "duplicated_data = data[data.duplicated()]\n",
        "duplicated_data"
      ]
    },
    {
      "cell_type": "code",
      "execution_count": 9,
      "metadata": {},
      "outputs": [
        {
          "data": {
            "text/html": [
              "<div>\n",
              "<style scoped>\n",
              "    .dataframe tbody tr th:only-of-type {\n",
              "        vertical-align: middle;\n",
              "    }\n",
              "\n",
              "    .dataframe tbody tr th {\n",
              "        vertical-align: top;\n",
              "    }\n",
              "\n",
              "    .dataframe thead th {\n",
              "        text-align: right;\n",
              "    }\n",
              "</style>\n",
              "<table border=\"1\" class=\"dataframe\">\n",
              "  <thead>\n",
              "    <tr style=\"text-align: right;\">\n",
              "      <th></th>\n",
              "      <th>Rank</th>\n",
              "      <th>Release_Date</th>\n",
              "      <th>Movie_Title</th>\n",
              "      <th>USD_Production_Budget</th>\n",
              "      <th>USD_Worldwide_Gross</th>\n",
              "      <th>USD_Domestic_Gross</th>\n",
              "    </tr>\n",
              "  </thead>\n",
              "  <tbody>\n",
              "    <tr>\n",
              "      <th>0</th>\n",
              "      <td>5293</td>\n",
              "      <td>8/2/1915</td>\n",
              "      <td>The Birth of a Nation</td>\n",
              "      <td>$110,000</td>\n",
              "      <td>$11,000,000</td>\n",
              "      <td>$10,000,000</td>\n",
              "    </tr>\n",
              "    <tr>\n",
              "      <th>1</th>\n",
              "      <td>5140</td>\n",
              "      <td>5/9/1916</td>\n",
              "      <td>Intolerance</td>\n",
              "      <td>$385,907</td>\n",
              "      <td>$0</td>\n",
              "      <td>$0</td>\n",
              "    </tr>\n",
              "    <tr>\n",
              "      <th>2</th>\n",
              "      <td>5230</td>\n",
              "      <td>12/24/1916</td>\n",
              "      <td>20,000 Leagues Under the Sea</td>\n",
              "      <td>$200,000</td>\n",
              "      <td>$8,000,000</td>\n",
              "      <td>$8,000,000</td>\n",
              "    </tr>\n",
              "    <tr>\n",
              "      <th>3</th>\n",
              "      <td>5299</td>\n",
              "      <td>9/17/1920</td>\n",
              "      <td>Over the Hill to the Poorhouse</td>\n",
              "      <td>$100,000</td>\n",
              "      <td>$3,000,000</td>\n",
              "      <td>$3,000,000</td>\n",
              "    </tr>\n",
              "    <tr>\n",
              "      <th>4</th>\n",
              "      <td>5222</td>\n",
              "      <td>1/1/1925</td>\n",
              "      <td>The Big Parade</td>\n",
              "      <td>$245,000</td>\n",
              "      <td>$22,000,000</td>\n",
              "      <td>$11,000,000</td>\n",
              "    </tr>\n",
              "    <tr>\n",
              "      <th>...</th>\n",
              "      <td>...</td>\n",
              "      <td>...</td>\n",
              "      <td>...</td>\n",
              "      <td>...</td>\n",
              "      <td>...</td>\n",
              "      <td>...</td>\n",
              "    </tr>\n",
              "    <tr>\n",
              "      <th>5387</th>\n",
              "      <td>126</td>\n",
              "      <td>12/18/2018</td>\n",
              "      <td>Aquaman</td>\n",
              "      <td>$160,000,000</td>\n",
              "      <td>$0</td>\n",
              "      <td>$0</td>\n",
              "    </tr>\n",
              "    <tr>\n",
              "      <th>5388</th>\n",
              "      <td>96</td>\n",
              "      <td>12/31/2020</td>\n",
              "      <td>Singularity</td>\n",
              "      <td>$175,000,000</td>\n",
              "      <td>$0</td>\n",
              "      <td>$0</td>\n",
              "    </tr>\n",
              "    <tr>\n",
              "      <th>5389</th>\n",
              "      <td>1119</td>\n",
              "      <td>12/31/2020</td>\n",
              "      <td>Hannibal the Conqueror</td>\n",
              "      <td>$50,000,000</td>\n",
              "      <td>$0</td>\n",
              "      <td>$0</td>\n",
              "    </tr>\n",
              "    <tr>\n",
              "      <th>5390</th>\n",
              "      <td>2517</td>\n",
              "      <td>12/31/2020</td>\n",
              "      <td>Story of Bonnie and Clyde, The</td>\n",
              "      <td>$20,000,000</td>\n",
              "      <td>$0</td>\n",
              "      <td>$0</td>\n",
              "    </tr>\n",
              "    <tr>\n",
              "      <th>5391</th>\n",
              "      <td>2517</td>\n",
              "      <td>12/31/2020</td>\n",
              "      <td>Story of Bonnie and Clyde, The</td>\n",
              "      <td>$20,000,000</td>\n",
              "      <td>$0</td>\n",
              "      <td>$0</td>\n",
              "    </tr>\n",
              "  </tbody>\n",
              "</table>\n",
              "<p>5392 rows × 6 columns</p>\n",
              "</div>"
            ],
            "text/plain": [
              "      Rank Release_Date                     Movie_Title USD_Production_Budget  \\\n",
              "0     5293     8/2/1915           The Birth of a Nation              $110,000   \n",
              "1     5140     5/9/1916                     Intolerance              $385,907   \n",
              "2     5230   12/24/1916    20,000 Leagues Under the Sea              $200,000   \n",
              "3     5299    9/17/1920  Over the Hill to the Poorhouse              $100,000   \n",
              "4     5222     1/1/1925                  The Big Parade              $245,000   \n",
              "...    ...          ...                             ...                   ...   \n",
              "5387   126   12/18/2018                         Aquaman          $160,000,000   \n",
              "5388    96   12/31/2020                     Singularity          $175,000,000   \n",
              "5389  1119   12/31/2020          Hannibal the Conqueror           $50,000,000   \n",
              "5390  2517   12/31/2020  Story of Bonnie and Clyde, The           $20,000,000   \n",
              "5391  2517   12/31/2020  Story of Bonnie and Clyde, The           $20,000,000   \n",
              "\n",
              "     USD_Worldwide_Gross USD_Domestic_Gross  \n",
              "0            $11,000,000        $10,000,000  \n",
              "1                     $0                 $0  \n",
              "2             $8,000,000         $8,000,000  \n",
              "3             $3,000,000         $3,000,000  \n",
              "4            $22,000,000        $11,000,000  \n",
              "...                  ...                ...  \n",
              "5387                  $0                 $0  \n",
              "5388                  $0                 $0  \n",
              "5389                  $0                 $0  \n",
              "5390                  $0                 $0  \n",
              "5391                  $0                 $0  \n",
              "\n",
              "[5392 rows x 6 columns]"
            ]
          },
          "execution_count": 9,
          "metadata": {},
          "output_type": "execute_result"
        }
      ],
      "source": [
        "data.drop_duplicates()\n",
        "data"
      ]
    },
    {
      "cell_type": "markdown",
      "metadata": {
        "id": "v8spadDNvpVG"
      },
      "source": [
        "### Data Type Conversions"
      ]
    },
    {
      "cell_type": "markdown",
      "metadata": {
        "id": "9F8KFST4ulrd"
      },
      "source": [
        "**Challenge**: Convert the `USD_Production_Budget`, `USD_Worldwide_Gross`, and `USD_Domestic_Gross` columns to a numeric format by removing `$` signs and `,`. \n",
        "<br>\n",
        "<br>\n",
        "Note that *domestic* in this context refers to the United States."
      ]
    },
    {
      "cell_type": "code",
      "execution_count": 10,
      "metadata": {
        "id": "BmdCbLf-TPXk"
      },
      "outputs": [
        {
          "data": {
            "text/plain": [
              "Index(['Rank', 'Release_Date', 'Movie_Title', 'USD_Production_Budget',\n",
              "       'USD_Worldwide_Gross', 'USD_Domestic_Gross'],\n",
              "      dtype='object')"
            ]
          },
          "execution_count": 10,
          "metadata": {},
          "output_type": "execute_result"
        }
      ],
      "source": [
        "data.columns"
      ]
    },
    {
      "cell_type": "code",
      "execution_count": 11,
      "metadata": {},
      "outputs": [
        {
          "name": "stderr",
          "output_type": "stream",
          "text": [
            "C:\\Users\\Ashok Bhatt\\AppData\\Local\\Temp\\ipykernel_20560\\905536512.py:6: FutureWarning: The default value of regex will change from True to False in a future version. In addition, single character regular expressions will *not* be treated as literal strings when regex=True.\n",
            "  data[column] = data[column].astype(str).str.replace(character, \"\")\n"
          ]
        }
      ],
      "source": [
        "columns_to_clean = ['USD_Production_Budget', 'USD_Worldwide_Gross', 'USD_Domestic_Gross']\n",
        "characters_to_remove = [\"$\", \",\"]\n",
        "\n",
        "for column in columns_to_clean:\n",
        "    for character in characters_to_remove:\n",
        "        data[column] = data[column].astype(str).str.replace(character, \"\")\n",
        "    data[column] = pd.to_numeric(data[column])"
      ]
    },
    {
      "cell_type": "code",
      "execution_count": 12,
      "metadata": {},
      "outputs": [
        {
          "data": {
            "text/html": [
              "<div>\n",
              "<style scoped>\n",
              "    .dataframe tbody tr th:only-of-type {\n",
              "        vertical-align: middle;\n",
              "    }\n",
              "\n",
              "    .dataframe tbody tr th {\n",
              "        vertical-align: top;\n",
              "    }\n",
              "\n",
              "    .dataframe thead th {\n",
              "        text-align: right;\n",
              "    }\n",
              "</style>\n",
              "<table border=\"1\" class=\"dataframe\">\n",
              "  <thead>\n",
              "    <tr style=\"text-align: right;\">\n",
              "      <th></th>\n",
              "      <th>Rank</th>\n",
              "      <th>Release_Date</th>\n",
              "      <th>Movie_Title</th>\n",
              "      <th>USD_Production_Budget</th>\n",
              "      <th>USD_Worldwide_Gross</th>\n",
              "      <th>USD_Domestic_Gross</th>\n",
              "    </tr>\n",
              "  </thead>\n",
              "  <tbody>\n",
              "    <tr>\n",
              "      <th>0</th>\n",
              "      <td>5293</td>\n",
              "      <td>8/2/1915</td>\n",
              "      <td>The Birth of a Nation</td>\n",
              "      <td>110000</td>\n",
              "      <td>11000000</td>\n",
              "      <td>10000000</td>\n",
              "    </tr>\n",
              "    <tr>\n",
              "      <th>1</th>\n",
              "      <td>5140</td>\n",
              "      <td>5/9/1916</td>\n",
              "      <td>Intolerance</td>\n",
              "      <td>385907</td>\n",
              "      <td>0</td>\n",
              "      <td>0</td>\n",
              "    </tr>\n",
              "    <tr>\n",
              "      <th>2</th>\n",
              "      <td>5230</td>\n",
              "      <td>12/24/1916</td>\n",
              "      <td>20,000 Leagues Under the Sea</td>\n",
              "      <td>200000</td>\n",
              "      <td>8000000</td>\n",
              "      <td>8000000</td>\n",
              "    </tr>\n",
              "    <tr>\n",
              "      <th>3</th>\n",
              "      <td>5299</td>\n",
              "      <td>9/17/1920</td>\n",
              "      <td>Over the Hill to the Poorhouse</td>\n",
              "      <td>100000</td>\n",
              "      <td>3000000</td>\n",
              "      <td>3000000</td>\n",
              "    </tr>\n",
              "    <tr>\n",
              "      <th>4</th>\n",
              "      <td>5222</td>\n",
              "      <td>1/1/1925</td>\n",
              "      <td>The Big Parade</td>\n",
              "      <td>245000</td>\n",
              "      <td>22000000</td>\n",
              "      <td>11000000</td>\n",
              "    </tr>\n",
              "  </tbody>\n",
              "</table>\n",
              "</div>"
            ],
            "text/plain": [
              "   Rank Release_Date                     Movie_Title  USD_Production_Budget  \\\n",
              "0  5293     8/2/1915           The Birth of a Nation                 110000   \n",
              "1  5140     5/9/1916                     Intolerance                 385907   \n",
              "2  5230   12/24/1916    20,000 Leagues Under the Sea                 200000   \n",
              "3  5299    9/17/1920  Over the Hill to the Poorhouse                 100000   \n",
              "4  5222     1/1/1925                  The Big Parade                 245000   \n",
              "\n",
              "   USD_Worldwide_Gross  USD_Domestic_Gross  \n",
              "0             11000000            10000000  \n",
              "1                    0                   0  \n",
              "2              8000000             8000000  \n",
              "3              3000000             3000000  \n",
              "4             22000000            11000000  "
            ]
          },
          "execution_count": 12,
          "metadata": {},
          "output_type": "execute_result"
        }
      ],
      "source": [
        "data.head()"
      ]
    },
    {
      "cell_type": "markdown",
      "metadata": {
        "id": "cA01iJHkvWhl"
      },
      "source": [
        "**Challenge**: Convert the `Release_Date` column to a Pandas Datetime type. "
      ]
    },
    {
      "cell_type": "code",
      "execution_count": 13,
      "metadata": {
        "id": "Pq1WfvRnTRU6"
      },
      "outputs": [
        {
          "data": {
            "text/html": [
              "<div>\n",
              "<style scoped>\n",
              "    .dataframe tbody tr th:only-of-type {\n",
              "        vertical-align: middle;\n",
              "    }\n",
              "\n",
              "    .dataframe tbody tr th {\n",
              "        vertical-align: top;\n",
              "    }\n",
              "\n",
              "    .dataframe thead th {\n",
              "        text-align: right;\n",
              "    }\n",
              "</style>\n",
              "<table border=\"1\" class=\"dataframe\">\n",
              "  <thead>\n",
              "    <tr style=\"text-align: right;\">\n",
              "      <th></th>\n",
              "      <th>Rank</th>\n",
              "      <th>Release_Date</th>\n",
              "      <th>Movie_Title</th>\n",
              "      <th>USD_Production_Budget</th>\n",
              "      <th>USD_Worldwide_Gross</th>\n",
              "      <th>USD_Domestic_Gross</th>\n",
              "    </tr>\n",
              "  </thead>\n",
              "  <tbody>\n",
              "    <tr>\n",
              "      <th>0</th>\n",
              "      <td>5293</td>\n",
              "      <td>1915-08-02</td>\n",
              "      <td>The Birth of a Nation</td>\n",
              "      <td>110000</td>\n",
              "      <td>11000000</td>\n",
              "      <td>10000000</td>\n",
              "    </tr>\n",
              "    <tr>\n",
              "      <th>1</th>\n",
              "      <td>5140</td>\n",
              "      <td>1916-05-09</td>\n",
              "      <td>Intolerance</td>\n",
              "      <td>385907</td>\n",
              "      <td>0</td>\n",
              "      <td>0</td>\n",
              "    </tr>\n",
              "    <tr>\n",
              "      <th>2</th>\n",
              "      <td>5230</td>\n",
              "      <td>1916-12-24</td>\n",
              "      <td>20,000 Leagues Under the Sea</td>\n",
              "      <td>200000</td>\n",
              "      <td>8000000</td>\n",
              "      <td>8000000</td>\n",
              "    </tr>\n",
              "    <tr>\n",
              "      <th>3</th>\n",
              "      <td>5299</td>\n",
              "      <td>1920-09-17</td>\n",
              "      <td>Over the Hill to the Poorhouse</td>\n",
              "      <td>100000</td>\n",
              "      <td>3000000</td>\n",
              "      <td>3000000</td>\n",
              "    </tr>\n",
              "    <tr>\n",
              "      <th>4</th>\n",
              "      <td>5222</td>\n",
              "      <td>1925-01-01</td>\n",
              "      <td>The Big Parade</td>\n",
              "      <td>245000</td>\n",
              "      <td>22000000</td>\n",
              "      <td>11000000</td>\n",
              "    </tr>\n",
              "    <tr>\n",
              "      <th>...</th>\n",
              "      <td>...</td>\n",
              "      <td>...</td>\n",
              "      <td>...</td>\n",
              "      <td>...</td>\n",
              "      <td>...</td>\n",
              "      <td>...</td>\n",
              "    </tr>\n",
              "    <tr>\n",
              "      <th>5387</th>\n",
              "      <td>126</td>\n",
              "      <td>2018-12-18</td>\n",
              "      <td>Aquaman</td>\n",
              "      <td>160000000</td>\n",
              "      <td>0</td>\n",
              "      <td>0</td>\n",
              "    </tr>\n",
              "    <tr>\n",
              "      <th>5388</th>\n",
              "      <td>96</td>\n",
              "      <td>2020-12-31</td>\n",
              "      <td>Singularity</td>\n",
              "      <td>175000000</td>\n",
              "      <td>0</td>\n",
              "      <td>0</td>\n",
              "    </tr>\n",
              "    <tr>\n",
              "      <th>5389</th>\n",
              "      <td>1119</td>\n",
              "      <td>2020-12-31</td>\n",
              "      <td>Hannibal the Conqueror</td>\n",
              "      <td>50000000</td>\n",
              "      <td>0</td>\n",
              "      <td>0</td>\n",
              "    </tr>\n",
              "    <tr>\n",
              "      <th>5390</th>\n",
              "      <td>2517</td>\n",
              "      <td>2020-12-31</td>\n",
              "      <td>Story of Bonnie and Clyde, The</td>\n",
              "      <td>20000000</td>\n",
              "      <td>0</td>\n",
              "      <td>0</td>\n",
              "    </tr>\n",
              "    <tr>\n",
              "      <th>5391</th>\n",
              "      <td>2517</td>\n",
              "      <td>2020-12-31</td>\n",
              "      <td>Story of Bonnie and Clyde, The</td>\n",
              "      <td>20000000</td>\n",
              "      <td>0</td>\n",
              "      <td>0</td>\n",
              "    </tr>\n",
              "  </tbody>\n",
              "</table>\n",
              "<p>5392 rows × 6 columns</p>\n",
              "</div>"
            ],
            "text/plain": [
              "      Rank Release_Date                     Movie_Title  \\\n",
              "0     5293   1915-08-02           The Birth of a Nation   \n",
              "1     5140   1916-05-09                     Intolerance   \n",
              "2     5230   1916-12-24    20,000 Leagues Under the Sea   \n",
              "3     5299   1920-09-17  Over the Hill to the Poorhouse   \n",
              "4     5222   1925-01-01                  The Big Parade   \n",
              "...    ...          ...                             ...   \n",
              "5387   126   2018-12-18                         Aquaman   \n",
              "5388    96   2020-12-31                     Singularity   \n",
              "5389  1119   2020-12-31          Hannibal the Conqueror   \n",
              "5390  2517   2020-12-31  Story of Bonnie and Clyde, The   \n",
              "5391  2517   2020-12-31  Story of Bonnie and Clyde, The   \n",
              "\n",
              "      USD_Production_Budget  USD_Worldwide_Gross  USD_Domestic_Gross  \n",
              "0                    110000             11000000            10000000  \n",
              "1                    385907                    0                   0  \n",
              "2                    200000              8000000             8000000  \n",
              "3                    100000              3000000             3000000  \n",
              "4                    245000             22000000            11000000  \n",
              "...                     ...                  ...                 ...  \n",
              "5387              160000000                    0                   0  \n",
              "5388              175000000                    0                   0  \n",
              "5389               50000000                    0                   0  \n",
              "5390               20000000                    0                   0  \n",
              "5391               20000000                    0                   0  \n",
              "\n",
              "[5392 rows x 6 columns]"
            ]
          },
          "execution_count": 13,
          "metadata": {},
          "output_type": "execute_result"
        }
      ],
      "source": [
        "data['Release_Date'] = pd.to_datetime(data['Release_Date'])\n",
        "data"
      ]
    },
    {
      "cell_type": "code",
      "execution_count": 14,
      "metadata": {},
      "outputs": [
        {
          "name": "stdout",
          "output_type": "stream",
          "text": [
            "<class 'pandas.core.frame.DataFrame'>\n",
            "RangeIndex: 5392 entries, 0 to 5391\n",
            "Data columns (total 6 columns):\n",
            " #   Column                 Non-Null Count  Dtype         \n",
            "---  ------                 --------------  -----         \n",
            " 0   Rank                   5392 non-null   int64         \n",
            " 1   Release_Date           5392 non-null   datetime64[ns]\n",
            " 2   Movie_Title            5392 non-null   object        \n",
            " 3   USD_Production_Budget  5392 non-null   int64         \n",
            " 4   USD_Worldwide_Gross    5392 non-null   int64         \n",
            " 5   USD_Domestic_Gross     5392 non-null   int64         \n",
            "dtypes: datetime64[ns](1), int64(4), object(1)\n",
            "memory usage: 252.9+ KB\n"
          ]
        }
      ],
      "source": [
        "data.info()"
      ]
    },
    {
      "cell_type": "markdown",
      "metadata": {
        "id": "NkwmJO3tvt5i"
      },
      "source": [
        "### Descriptive Statistics"
      ]
    },
    {
      "cell_type": "markdown",
      "metadata": {
        "id": "bnb54thrvx5r"
      },
      "source": [
        "**Challenge**: \n",
        "\n",
        "1. What is the average production budget of the films in the data set?\n",
        "2. What is the average worldwide gross revenue of films?\n",
        "3. What were the minimums for worldwide and domestic revenue?\n",
        "4. Are the bottom 25% of films actually profitable or do they lose money?\n",
        "5. What are the highest production budget and highest worldwide gross revenue of any film?\n",
        "6. How much revenue did the lowest and highest budget films make?"
      ]
    },
    {
      "cell_type": "code",
      "execution_count": 15,
      "metadata": {},
      "outputs": [
        {
          "data": {
            "text/html": [
              "<div>\n",
              "<style scoped>\n",
              "    .dataframe tbody tr th:only-of-type {\n",
              "        vertical-align: middle;\n",
              "    }\n",
              "\n",
              "    .dataframe tbody tr th {\n",
              "        vertical-align: top;\n",
              "    }\n",
              "\n",
              "    .dataframe thead th {\n",
              "        text-align: right;\n",
              "    }\n",
              "</style>\n",
              "<table border=\"1\" class=\"dataframe\">\n",
              "  <thead>\n",
              "    <tr style=\"text-align: right;\">\n",
              "      <th></th>\n",
              "      <th>Rank</th>\n",
              "      <th>USD_Production_Budget</th>\n",
              "      <th>USD_Worldwide_Gross</th>\n",
              "      <th>USD_Domestic_Gross</th>\n",
              "    </tr>\n",
              "  </thead>\n",
              "  <tbody>\n",
              "    <tr>\n",
              "      <th>count</th>\n",
              "      <td>5,392.00</td>\n",
              "      <td>5,392.00</td>\n",
              "      <td>5,392.00</td>\n",
              "      <td>5,392.00</td>\n",
              "    </tr>\n",
              "    <tr>\n",
              "      <th>mean</th>\n",
              "      <td>2,695.97</td>\n",
              "      <td>31,111,676.43</td>\n",
              "      <td>88,838,942.84</td>\n",
              "      <td>41,227,871.91</td>\n",
              "    </tr>\n",
              "    <tr>\n",
              "      <th>std</th>\n",
              "      <td>1,556.25</td>\n",
              "      <td>40,520,320.91</td>\n",
              "      <td>168,446,478.72</td>\n",
              "      <td>66,025,610.08</td>\n",
              "    </tr>\n",
              "    <tr>\n",
              "      <th>min</th>\n",
              "      <td>1.00</td>\n",
              "      <td>1,100.00</td>\n",
              "      <td>0.00</td>\n",
              "      <td>0.00</td>\n",
              "    </tr>\n",
              "    <tr>\n",
              "      <th>25%</th>\n",
              "      <td>1,348.75</td>\n",
              "      <td>5,000,000.00</td>\n",
              "      <td>3,853,844.50</td>\n",
              "      <td>1,326,807.75</td>\n",
              "    </tr>\n",
              "    <tr>\n",
              "      <th>50%</th>\n",
              "      <td>2,695.50</td>\n",
              "      <td>17,000,000.00</td>\n",
              "      <td>27,448,962.00</td>\n",
              "      <td>17,186,735.00</td>\n",
              "    </tr>\n",
              "    <tr>\n",
              "      <th>75%</th>\n",
              "      <td>4,043.25</td>\n",
              "      <td>40,000,000.00</td>\n",
              "      <td>96,447,089.00</td>\n",
              "      <td>52,338,712.50</td>\n",
              "    </tr>\n",
              "    <tr>\n",
              "      <th>max</th>\n",
              "      <td>5,391.00</td>\n",
              "      <td>425,000,000.00</td>\n",
              "      <td>2,783,918,982.00</td>\n",
              "      <td>936,662,225.00</td>\n",
              "    </tr>\n",
              "  </tbody>\n",
              "</table>\n",
              "</div>"
            ],
            "text/plain": [
              "          Rank  USD_Production_Budget  USD_Worldwide_Gross  USD_Domestic_Gross\n",
              "count 5,392.00               5,392.00             5,392.00            5,392.00\n",
              "mean  2,695.97          31,111,676.43        88,838,942.84       41,227,871.91\n",
              "std   1,556.25          40,520,320.91       168,446,478.72       66,025,610.08\n",
              "min       1.00               1,100.00                 0.00                0.00\n",
              "25%   1,348.75           5,000,000.00         3,853,844.50        1,326,807.75\n",
              "50%   2,695.50          17,000,000.00        27,448,962.00       17,186,735.00\n",
              "75%   4,043.25          40,000,000.00        96,447,089.00       52,338,712.50\n",
              "max   5,391.00         425,000,000.00     2,783,918,982.00      936,662,225.00"
            ]
          },
          "execution_count": 15,
          "metadata": {},
          "output_type": "execute_result"
        }
      ],
      "source": [
        "data.describe()"
      ]
    },
    {
      "cell_type": "code",
      "execution_count": 16,
      "metadata": {
        "id": "8G5_FATFTTtb"
      },
      "outputs": [
        {
          "data": {
            "text/plain": [
              "31111676.43"
            ]
          },
          "execution_count": 16,
          "metadata": {},
          "output_type": "execute_result"
        }
      ],
      "source": [
        "data['USD_Production_Budget'].mean().round(2)"
      ]
    },
    {
      "cell_type": "code",
      "execution_count": 17,
      "metadata": {},
      "outputs": [
        {
          "data": {
            "text/plain": [
              "88838942.84"
            ]
          },
          "execution_count": 17,
          "metadata": {},
          "output_type": "execute_result"
        }
      ],
      "source": [
        "data['USD_Worldwide_Gross'].mean().round(2)"
      ]
    },
    {
      "cell_type": "code",
      "execution_count": 18,
      "metadata": {},
      "outputs": [
        {
          "data": {
            "text/html": [
              "<div>\n",
              "<style scoped>\n",
              "    .dataframe tbody tr th:only-of-type {\n",
              "        vertical-align: middle;\n",
              "    }\n",
              "\n",
              "    .dataframe tbody tr th {\n",
              "        vertical-align: top;\n",
              "    }\n",
              "\n",
              "    .dataframe thead th {\n",
              "        text-align: right;\n",
              "    }\n",
              "</style>\n",
              "<table border=\"1\" class=\"dataframe\">\n",
              "  <thead>\n",
              "    <tr style=\"text-align: right;\">\n",
              "      <th></th>\n",
              "      <th>Rank</th>\n",
              "      <th>Release_Date</th>\n",
              "      <th>Movie_Title</th>\n",
              "      <th>USD_Production_Budget</th>\n",
              "      <th>USD_Worldwide_Gross</th>\n",
              "      <th>USD_Domestic_Gross</th>\n",
              "    </tr>\n",
              "  </thead>\n",
              "  <tbody>\n",
              "    <tr>\n",
              "      <th>1</th>\n",
              "      <td>5140</td>\n",
              "      <td>1916-05-09</td>\n",
              "      <td>Intolerance</td>\n",
              "      <td>385907</td>\n",
              "      <td>0</td>\n",
              "      <td>0</td>\n",
              "    </tr>\n",
              "    <tr>\n",
              "      <th>6</th>\n",
              "      <td>4630</td>\n",
              "      <td>1927-12-08</td>\n",
              "      <td>Wings</td>\n",
              "      <td>2000000</td>\n",
              "      <td>0</td>\n",
              "      <td>0</td>\n",
              "    </tr>\n",
              "    <tr>\n",
              "      <th>8</th>\n",
              "      <td>4240</td>\n",
              "      <td>1930-01-01</td>\n",
              "      <td>Hell's Angels</td>\n",
              "      <td>4000000</td>\n",
              "      <td>0</td>\n",
              "      <td>0</td>\n",
              "    </tr>\n",
              "    <tr>\n",
              "      <th>17</th>\n",
              "      <td>4814</td>\n",
              "      <td>1936-10-20</td>\n",
              "      <td>Charge of the Light Brigade, The</td>\n",
              "      <td>1200000</td>\n",
              "      <td>0</td>\n",
              "      <td>0</td>\n",
              "    </tr>\n",
              "    <tr>\n",
              "      <th>27</th>\n",
              "      <td>4789</td>\n",
              "      <td>1941-10-28</td>\n",
              "      <td>How Green Was My Valley</td>\n",
              "      <td>1250000</td>\n",
              "      <td>0</td>\n",
              "      <td>0</td>\n",
              "    </tr>\n",
              "    <tr>\n",
              "      <th>...</th>\n",
              "      <td>...</td>\n",
              "      <td>...</td>\n",
              "      <td>...</td>\n",
              "      <td>...</td>\n",
              "      <td>...</td>\n",
              "      <td>...</td>\n",
              "    </tr>\n",
              "    <tr>\n",
              "      <th>5387</th>\n",
              "      <td>126</td>\n",
              "      <td>2018-12-18</td>\n",
              "      <td>Aquaman</td>\n",
              "      <td>160000000</td>\n",
              "      <td>0</td>\n",
              "      <td>0</td>\n",
              "    </tr>\n",
              "    <tr>\n",
              "      <th>5388</th>\n",
              "      <td>96</td>\n",
              "      <td>2020-12-31</td>\n",
              "      <td>Singularity</td>\n",
              "      <td>175000000</td>\n",
              "      <td>0</td>\n",
              "      <td>0</td>\n",
              "    </tr>\n",
              "    <tr>\n",
              "      <th>5389</th>\n",
              "      <td>1119</td>\n",
              "      <td>2020-12-31</td>\n",
              "      <td>Hannibal the Conqueror</td>\n",
              "      <td>50000000</td>\n",
              "      <td>0</td>\n",
              "      <td>0</td>\n",
              "    </tr>\n",
              "    <tr>\n",
              "      <th>5390</th>\n",
              "      <td>2517</td>\n",
              "      <td>2020-12-31</td>\n",
              "      <td>Story of Bonnie and Clyde, The</td>\n",
              "      <td>20000000</td>\n",
              "      <td>0</td>\n",
              "      <td>0</td>\n",
              "    </tr>\n",
              "    <tr>\n",
              "      <th>5391</th>\n",
              "      <td>2517</td>\n",
              "      <td>2020-12-31</td>\n",
              "      <td>Story of Bonnie and Clyde, The</td>\n",
              "      <td>20000000</td>\n",
              "      <td>0</td>\n",
              "      <td>0</td>\n",
              "    </tr>\n",
              "  </tbody>\n",
              "</table>\n",
              "<p>513 rows × 6 columns</p>\n",
              "</div>"
            ],
            "text/plain": [
              "      Rank Release_Date                       Movie_Title  \\\n",
              "1     5140   1916-05-09                       Intolerance   \n",
              "6     4630   1927-12-08                             Wings   \n",
              "8     4240   1930-01-01                     Hell's Angels   \n",
              "17    4814   1936-10-20  Charge of the Light Brigade, The   \n",
              "27    4789   1941-10-28           How Green Was My Valley   \n",
              "...    ...          ...                               ...   \n",
              "5387   126   2018-12-18                           Aquaman   \n",
              "5388    96   2020-12-31                       Singularity   \n",
              "5389  1119   2020-12-31            Hannibal the Conqueror   \n",
              "5390  2517   2020-12-31    Story of Bonnie and Clyde, The   \n",
              "5391  2517   2020-12-31    Story of Bonnie and Clyde, The   \n",
              "\n",
              "      USD_Production_Budget  USD_Worldwide_Gross  USD_Domestic_Gross  \n",
              "1                    385907                    0                   0  \n",
              "6                   2000000                    0                   0  \n",
              "8                   4000000                    0                   0  \n",
              "17                  1200000                    0                   0  \n",
              "27                  1250000                    0                   0  \n",
              "...                     ...                  ...                 ...  \n",
              "5387              160000000                    0                   0  \n",
              "5388              175000000                    0                   0  \n",
              "5389               50000000                    0                   0  \n",
              "5390               20000000                    0                   0  \n",
              "5391               20000000                    0                   0  \n",
              "\n",
              "[513 rows x 6 columns]"
            ]
          },
          "execution_count": 18,
          "metadata": {},
          "output_type": "execute_result"
        }
      ],
      "source": [
        "data[data['USD_Domestic_Gross'] == data['USD_Domestic_Gross'].min()]"
      ]
    },
    {
      "cell_type": "code",
      "execution_count": 19,
      "metadata": {},
      "outputs": [
        {
          "data": {
            "text/html": [
              "<div>\n",
              "<style scoped>\n",
              "    .dataframe tbody tr th:only-of-type {\n",
              "        vertical-align: middle;\n",
              "    }\n",
              "\n",
              "    .dataframe tbody tr th {\n",
              "        vertical-align: top;\n",
              "    }\n",
              "\n",
              "    .dataframe thead th {\n",
              "        text-align: right;\n",
              "    }\n",
              "</style>\n",
              "<table border=\"1\" class=\"dataframe\">\n",
              "  <thead>\n",
              "    <tr style=\"text-align: right;\">\n",
              "      <th></th>\n",
              "      <th>Rank</th>\n",
              "      <th>Release_Date</th>\n",
              "      <th>Movie_Title</th>\n",
              "      <th>USD_Production_Budget</th>\n",
              "      <th>USD_Worldwide_Gross</th>\n",
              "      <th>USD_Domestic_Gross</th>\n",
              "    </tr>\n",
              "  </thead>\n",
              "  <tbody>\n",
              "    <tr>\n",
              "      <th>1</th>\n",
              "      <td>5140</td>\n",
              "      <td>1916-05-09</td>\n",
              "      <td>Intolerance</td>\n",
              "      <td>385907</td>\n",
              "      <td>0</td>\n",
              "      <td>0</td>\n",
              "    </tr>\n",
              "    <tr>\n",
              "      <th>6</th>\n",
              "      <td>4630</td>\n",
              "      <td>1927-12-08</td>\n",
              "      <td>Wings</td>\n",
              "      <td>2000000</td>\n",
              "      <td>0</td>\n",
              "      <td>0</td>\n",
              "    </tr>\n",
              "    <tr>\n",
              "      <th>8</th>\n",
              "      <td>4240</td>\n",
              "      <td>1930-01-01</td>\n",
              "      <td>Hell's Angels</td>\n",
              "      <td>4000000</td>\n",
              "      <td>0</td>\n",
              "      <td>0</td>\n",
              "    </tr>\n",
              "    <tr>\n",
              "      <th>17</th>\n",
              "      <td>4814</td>\n",
              "      <td>1936-10-20</td>\n",
              "      <td>Charge of the Light Brigade, The</td>\n",
              "      <td>1200000</td>\n",
              "      <td>0</td>\n",
              "      <td>0</td>\n",
              "    </tr>\n",
              "    <tr>\n",
              "      <th>27</th>\n",
              "      <td>4789</td>\n",
              "      <td>1941-10-28</td>\n",
              "      <td>How Green Was My Valley</td>\n",
              "      <td>1250000</td>\n",
              "      <td>0</td>\n",
              "      <td>0</td>\n",
              "    </tr>\n",
              "    <tr>\n",
              "      <th>...</th>\n",
              "      <td>...</td>\n",
              "      <td>...</td>\n",
              "      <td>...</td>\n",
              "      <td>...</td>\n",
              "      <td>...</td>\n",
              "      <td>...</td>\n",
              "    </tr>\n",
              "    <tr>\n",
              "      <th>5387</th>\n",
              "      <td>126</td>\n",
              "      <td>2018-12-18</td>\n",
              "      <td>Aquaman</td>\n",
              "      <td>160000000</td>\n",
              "      <td>0</td>\n",
              "      <td>0</td>\n",
              "    </tr>\n",
              "    <tr>\n",
              "      <th>5388</th>\n",
              "      <td>96</td>\n",
              "      <td>2020-12-31</td>\n",
              "      <td>Singularity</td>\n",
              "      <td>175000000</td>\n",
              "      <td>0</td>\n",
              "      <td>0</td>\n",
              "    </tr>\n",
              "    <tr>\n",
              "      <th>5389</th>\n",
              "      <td>1119</td>\n",
              "      <td>2020-12-31</td>\n",
              "      <td>Hannibal the Conqueror</td>\n",
              "      <td>50000000</td>\n",
              "      <td>0</td>\n",
              "      <td>0</td>\n",
              "    </tr>\n",
              "    <tr>\n",
              "      <th>5390</th>\n",
              "      <td>2517</td>\n",
              "      <td>2020-12-31</td>\n",
              "      <td>Story of Bonnie and Clyde, The</td>\n",
              "      <td>20000000</td>\n",
              "      <td>0</td>\n",
              "      <td>0</td>\n",
              "    </tr>\n",
              "    <tr>\n",
              "      <th>5391</th>\n",
              "      <td>2517</td>\n",
              "      <td>2020-12-31</td>\n",
              "      <td>Story of Bonnie and Clyde, The</td>\n",
              "      <td>20000000</td>\n",
              "      <td>0</td>\n",
              "      <td>0</td>\n",
              "    </tr>\n",
              "  </tbody>\n",
              "</table>\n",
              "<p>358 rows × 6 columns</p>\n",
              "</div>"
            ],
            "text/plain": [
              "      Rank Release_Date                       Movie_Title  \\\n",
              "1     5140   1916-05-09                       Intolerance   \n",
              "6     4630   1927-12-08                             Wings   \n",
              "8     4240   1930-01-01                     Hell's Angels   \n",
              "17    4814   1936-10-20  Charge of the Light Brigade, The   \n",
              "27    4789   1941-10-28           How Green Was My Valley   \n",
              "...    ...          ...                               ...   \n",
              "5387   126   2018-12-18                           Aquaman   \n",
              "5388    96   2020-12-31                       Singularity   \n",
              "5389  1119   2020-12-31            Hannibal the Conqueror   \n",
              "5390  2517   2020-12-31    Story of Bonnie and Clyde, The   \n",
              "5391  2517   2020-12-31    Story of Bonnie and Clyde, The   \n",
              "\n",
              "      USD_Production_Budget  USD_Worldwide_Gross  USD_Domestic_Gross  \n",
              "1                    385907                    0                   0  \n",
              "6                   2000000                    0                   0  \n",
              "8                   4000000                    0                   0  \n",
              "17                  1200000                    0                   0  \n",
              "27                  1250000                    0                   0  \n",
              "...                     ...                  ...                 ...  \n",
              "5387              160000000                    0                   0  \n",
              "5388              175000000                    0                   0  \n",
              "5389               50000000                    0                   0  \n",
              "5390               20000000                    0                   0  \n",
              "5391               20000000                    0                   0  \n",
              "\n",
              "[358 rows x 6 columns]"
            ]
          },
          "execution_count": 19,
          "metadata": {},
          "output_type": "execute_result"
        }
      ],
      "source": [
        "data[data['USD_Worldwide_Gross'] == data['USD_Worldwide_Gross'].min()]"
      ]
    },
    {
      "cell_type": "code",
      "execution_count": 20,
      "metadata": {},
      "outputs": [
        {
          "data": {
            "text/html": [
              "<div>\n",
              "<style scoped>\n",
              "    .dataframe tbody tr th:only-of-type {\n",
              "        vertical-align: middle;\n",
              "    }\n",
              "\n",
              "    .dataframe tbody tr th {\n",
              "        vertical-align: top;\n",
              "    }\n",
              "\n",
              "    .dataframe thead th {\n",
              "        text-align: right;\n",
              "    }\n",
              "</style>\n",
              "<table border=\"1\" class=\"dataframe\">\n",
              "  <thead>\n",
              "    <tr style=\"text-align: right;\">\n",
              "      <th></th>\n",
              "      <th>Rank</th>\n",
              "      <th>Release_Date</th>\n",
              "      <th>Movie_Title</th>\n",
              "      <th>USD_Production_Budget</th>\n",
              "      <th>USD_Worldwide_Gross</th>\n",
              "      <th>USD_Domestic_Gross</th>\n",
              "    </tr>\n",
              "  </thead>\n",
              "  <tbody>\n",
              "    <tr>\n",
              "      <th>2427</th>\n",
              "      <td>5391</td>\n",
              "      <td>2005-05-08</td>\n",
              "      <td>My Date With Drew</td>\n",
              "      <td>1100</td>\n",
              "      <td>181041</td>\n",
              "      <td>181041</td>\n",
              "    </tr>\n",
              "  </tbody>\n",
              "</table>\n",
              "</div>"
            ],
            "text/plain": [
              "      Rank Release_Date        Movie_Title  USD_Production_Budget  \\\n",
              "2427  5391   2005-05-08  My Date With Drew                   1100   \n",
              "\n",
              "      USD_Worldwide_Gross  USD_Domestic_Gross  \n",
              "2427               181041              181041  "
            ]
          },
          "execution_count": 20,
          "metadata": {},
          "output_type": "execute_result"
        }
      ],
      "source": [
        "data[data['USD_Production_Budget'] == data['USD_Production_Budget'].min()]"
      ]
    },
    {
      "cell_type": "code",
      "execution_count": 21,
      "metadata": {},
      "outputs": [
        {
          "data": {
            "text/html": [
              "<div>\n",
              "<style scoped>\n",
              "    .dataframe tbody tr th:only-of-type {\n",
              "        vertical-align: middle;\n",
              "    }\n",
              "\n",
              "    .dataframe tbody tr th {\n",
              "        vertical-align: top;\n",
              "    }\n",
              "\n",
              "    .dataframe thead th {\n",
              "        text-align: right;\n",
              "    }\n",
              "</style>\n",
              "<table border=\"1\" class=\"dataframe\">\n",
              "  <thead>\n",
              "    <tr style=\"text-align: right;\">\n",
              "      <th></th>\n",
              "      <th>Rank</th>\n",
              "      <th>Release_Date</th>\n",
              "      <th>Movie_Title</th>\n",
              "      <th>USD_Production_Budget</th>\n",
              "      <th>USD_Worldwide_Gross</th>\n",
              "      <th>USD_Domestic_Gross</th>\n",
              "    </tr>\n",
              "  </thead>\n",
              "  <tbody>\n",
              "    <tr>\n",
              "      <th>3529</th>\n",
              "      <td>1</td>\n",
              "      <td>2009-12-18</td>\n",
              "      <td>Avatar</td>\n",
              "      <td>425000000</td>\n",
              "      <td>2783918982</td>\n",
              "      <td>760507625</td>\n",
              "    </tr>\n",
              "  </tbody>\n",
              "</table>\n",
              "</div>"
            ],
            "text/plain": [
              "      Rank Release_Date Movie_Title  USD_Production_Budget  \\\n",
              "3529     1   2009-12-18      Avatar              425000000   \n",
              "\n",
              "      USD_Worldwide_Gross  USD_Domestic_Gross  \n",
              "3529           2783918982           760507625  "
            ]
          },
          "execution_count": 21,
          "metadata": {},
          "output_type": "execute_result"
        }
      ],
      "source": [
        "data[data['USD_Production_Budget'] == data['USD_Production_Budget'].max()]"
      ]
    },
    {
      "cell_type": "code",
      "execution_count": 22,
      "metadata": {},
      "outputs": [
        {
          "data": {
            "text/html": [
              "<div>\n",
              "<style scoped>\n",
              "    .dataframe tbody tr th:only-of-type {\n",
              "        vertical-align: middle;\n",
              "    }\n",
              "\n",
              "    .dataframe tbody tr th {\n",
              "        vertical-align: top;\n",
              "    }\n",
              "\n",
              "    .dataframe thead th {\n",
              "        text-align: right;\n",
              "    }\n",
              "</style>\n",
              "<table border=\"1\" class=\"dataframe\">\n",
              "  <thead>\n",
              "    <tr style=\"text-align: right;\">\n",
              "      <th></th>\n",
              "      <th>Rank</th>\n",
              "      <th>Release_Date</th>\n",
              "      <th>Movie_Title</th>\n",
              "      <th>USD_Production_Budget</th>\n",
              "      <th>USD_Worldwide_Gross</th>\n",
              "      <th>USD_Domestic_Gross</th>\n",
              "    </tr>\n",
              "  </thead>\n",
              "  <tbody>\n",
              "    <tr>\n",
              "      <th>3529</th>\n",
              "      <td>1</td>\n",
              "      <td>2009-12-18</td>\n",
              "      <td>Avatar</td>\n",
              "      <td>425000000</td>\n",
              "      <td>2783918982</td>\n",
              "      <td>760507625</td>\n",
              "    </tr>\n",
              "  </tbody>\n",
              "</table>\n",
              "</div>"
            ],
            "text/plain": [
              "      Rank Release_Date Movie_Title  USD_Production_Budget  \\\n",
              "3529     1   2009-12-18      Avatar              425000000   \n",
              "\n",
              "      USD_Worldwide_Gross  USD_Domestic_Gross  \n",
              "3529           2783918982           760507625  "
            ]
          },
          "execution_count": 22,
          "metadata": {},
          "output_type": "execute_result"
        }
      ],
      "source": [
        "data[data['USD_Worldwide_Gross'] == data['USD_Worldwide_Gross'].max()]"
      ]
    },
    {
      "cell_type": "code",
      "execution_count": 23,
      "metadata": {},
      "outputs": [
        {
          "name": "stdout",
          "output_type": "stream",
          "text": [
            "Revenue of highest budget movie: 2358918982\n",
            "Revenue of lowest budget movie: 179941\n"
          ]
        }
      ],
      "source": [
        "highest_budget = data[data['USD_Production_Budget'] == data['USD_Production_Budget'].max()]\n",
        "lowest_budget = data[data['USD_Production_Budget'] == data['USD_Production_Budget'].min()]\n",
        "\n",
        "print(f\"Revenue of highest budget movie: {int(highest_budget['USD_Worldwide_Gross'] - highest_budget['USD_Production_Budget'])}\")\n",
        "print(f\"Revenue of lowest budget movie: {int(lowest_budget['USD_Worldwide_Gross'] - lowest_budget['USD_Production_Budget'])}\")"
      ]
    },
    {
      "cell_type": "markdown",
      "metadata": {
        "id": "Cj-ug32JyEhp"
      },
      "source": [
        "# Investigating the Zero Revenue Films"
      ]
    },
    {
      "cell_type": "markdown",
      "metadata": {
        "id": "U9hm-pb4xTjY"
      },
      "source": [
        "**Challenge** How many films grossed $0 domestically (i.e., in the United States)? What were the highest budget films that grossed nothing?"
      ]
    },
    {
      "cell_type": "code",
      "execution_count": 24,
      "metadata": {
        "id": "MXuRYdy0TWkt"
      },
      "outputs": [
        {
          "data": {
            "text/plain": [
              "Rank                     513\n",
              "Release_Date             513\n",
              "Movie_Title              513\n",
              "USD_Production_Budget    513\n",
              "USD_Worldwide_Gross      513\n",
              "USD_Domestic_Gross       513\n",
              "dtype: int64"
            ]
          },
          "execution_count": 24,
          "metadata": {},
          "output_type": "execute_result"
        }
      ],
      "source": [
        "data[data['USD_Domestic_Gross'] == 0].count()"
      ]
    },
    {
      "cell_type": "code",
      "execution_count": 25,
      "metadata": {},
      "outputs": [
        {
          "data": {
            "text/html": [
              "<div>\n",
              "<style scoped>\n",
              "    .dataframe tbody tr th:only-of-type {\n",
              "        vertical-align: middle;\n",
              "    }\n",
              "\n",
              "    .dataframe tbody tr th {\n",
              "        vertical-align: top;\n",
              "    }\n",
              "\n",
              "    .dataframe thead th {\n",
              "        text-align: right;\n",
              "    }\n",
              "</style>\n",
              "<table border=\"1\" class=\"dataframe\">\n",
              "  <thead>\n",
              "    <tr style=\"text-align: right;\">\n",
              "      <th></th>\n",
              "      <th>Rank</th>\n",
              "      <th>Release_Date</th>\n",
              "      <th>Movie_Title</th>\n",
              "      <th>USD_Production_Budget</th>\n",
              "      <th>USD_Worldwide_Gross</th>\n",
              "      <th>USD_Domestic_Gross</th>\n",
              "    </tr>\n",
              "  </thead>\n",
              "  <tbody>\n",
              "    <tr>\n",
              "      <th>5388</th>\n",
              "      <td>96</td>\n",
              "      <td>2020-12-31</td>\n",
              "      <td>Singularity</td>\n",
              "      <td>175000000</td>\n",
              "      <td>0</td>\n",
              "      <td>0</td>\n",
              "    </tr>\n",
              "  </tbody>\n",
              "</table>\n",
              "</div>"
            ],
            "text/plain": [
              "      Rank Release_Date  Movie_Title  USD_Production_Budget  \\\n",
              "5388    96   2020-12-31  Singularity              175000000   \n",
              "\n",
              "      USD_Worldwide_Gross  USD_Domestic_Gross  \n",
              "5388                    0                   0  "
            ]
          },
          "execution_count": 25,
          "metadata": {},
          "output_type": "execute_result"
        }
      ],
      "source": [
        "new_data = data[data['USD_Domestic_Gross'] == 0]\n",
        "new_data[new_data['USD_Production_Budget'] == new_data['USD_Production_Budget'].max()]"
      ]
    },
    {
      "cell_type": "markdown",
      "metadata": {
        "id": "mY8SAwI0x73b"
      },
      "source": [
        "**Challenge**: How many films grossed $0 worldwide? What are the highest budget films that had no revenue internationally?"
      ]
    },
    {
      "cell_type": "code",
      "execution_count": 26,
      "metadata": {
        "id": "VpfocexxTXym"
      },
      "outputs": [
        {
          "data": {
            "text/plain": [
              "Rank                     358\n",
              "Release_Date             358\n",
              "Movie_Title              358\n",
              "USD_Production_Budget    358\n",
              "USD_Worldwide_Gross      358\n",
              "USD_Domestic_Gross       358\n",
              "dtype: int64"
            ]
          },
          "execution_count": 26,
          "metadata": {},
          "output_type": "execute_result"
        }
      ],
      "source": [
        "data[data['USD_Worldwide_Gross'] == 0].count()"
      ]
    },
    {
      "cell_type": "code",
      "execution_count": 27,
      "metadata": {},
      "outputs": [
        {
          "data": {
            "text/html": [
              "<div>\n",
              "<style scoped>\n",
              "    .dataframe tbody tr th:only-of-type {\n",
              "        vertical-align: middle;\n",
              "    }\n",
              "\n",
              "    .dataframe tbody tr th {\n",
              "        vertical-align: top;\n",
              "    }\n",
              "\n",
              "    .dataframe thead th {\n",
              "        text-align: right;\n",
              "    }\n",
              "</style>\n",
              "<table border=\"1\" class=\"dataframe\">\n",
              "  <thead>\n",
              "    <tr style=\"text-align: right;\">\n",
              "      <th></th>\n",
              "      <th>Rank</th>\n",
              "      <th>Release_Date</th>\n",
              "      <th>Movie_Title</th>\n",
              "      <th>USD_Production_Budget</th>\n",
              "      <th>USD_Worldwide_Gross</th>\n",
              "      <th>USD_Domestic_Gross</th>\n",
              "    </tr>\n",
              "  </thead>\n",
              "  <tbody>\n",
              "    <tr>\n",
              "      <th>5388</th>\n",
              "      <td>96</td>\n",
              "      <td>2020-12-31</td>\n",
              "      <td>Singularity</td>\n",
              "      <td>175000000</td>\n",
              "      <td>0</td>\n",
              "      <td>0</td>\n",
              "    </tr>\n",
              "  </tbody>\n",
              "</table>\n",
              "</div>"
            ],
            "text/plain": [
              "      Rank Release_Date  Movie_Title  USD_Production_Budget  \\\n",
              "5388    96   2020-12-31  Singularity              175000000   \n",
              "\n",
              "      USD_Worldwide_Gross  USD_Domestic_Gross  \n",
              "5388                    0                   0  "
            ]
          },
          "execution_count": 27,
          "metadata": {},
          "output_type": "execute_result"
        }
      ],
      "source": [
        "new_data = data[data['USD_Worldwide_Gross'] == 0]\n",
        "new_data[new_data['USD_Production_Budget'] == new_data['USD_Production_Budget'].max()]"
      ]
    },
    {
      "cell_type": "markdown",
      "metadata": {
        "id": "eXUDzWpeyV2f"
      },
      "source": [
        "### Filtering on Multiple Conditions"
      ]
    },
    {
      "cell_type": "code",
      "execution_count": 28,
      "metadata": {
        "id": "dLd3eeD9TZZ9"
      },
      "outputs": [
        {
          "data": {
            "text/html": [
              "<div>\n",
              "<style scoped>\n",
              "    .dataframe tbody tr th:only-of-type {\n",
              "        vertical-align: middle;\n",
              "    }\n",
              "\n",
              "    .dataframe tbody tr th {\n",
              "        vertical-align: top;\n",
              "    }\n",
              "\n",
              "    .dataframe thead th {\n",
              "        text-align: right;\n",
              "    }\n",
              "</style>\n",
              "<table border=\"1\" class=\"dataframe\">\n",
              "  <thead>\n",
              "    <tr style=\"text-align: right;\">\n",
              "      <th></th>\n",
              "      <th>Rank</th>\n",
              "      <th>Release_Date</th>\n",
              "      <th>Movie_Title</th>\n",
              "      <th>USD_Production_Budget</th>\n",
              "      <th>USD_Worldwide_Gross</th>\n",
              "      <th>USD_Domestic_Gross</th>\n",
              "    </tr>\n",
              "  </thead>\n",
              "  <tbody>\n",
              "    <tr>\n",
              "      <th>71</th>\n",
              "      <td>4310</td>\n",
              "      <td>1956-02-16</td>\n",
              "      <td>Carousel</td>\n",
              "      <td>3380000</td>\n",
              "      <td>3220</td>\n",
              "      <td>0</td>\n",
              "    </tr>\n",
              "    <tr>\n",
              "      <th>1579</th>\n",
              "      <td>5087</td>\n",
              "      <td>2001-02-11</td>\n",
              "      <td>Everything Put Together</td>\n",
              "      <td>500000</td>\n",
              "      <td>7890</td>\n",
              "      <td>0</td>\n",
              "    </tr>\n",
              "    <tr>\n",
              "      <th>1744</th>\n",
              "      <td>3695</td>\n",
              "      <td>2001-12-31</td>\n",
              "      <td>The Hole</td>\n",
              "      <td>7500000</td>\n",
              "      <td>10834406</td>\n",
              "      <td>0</td>\n",
              "    </tr>\n",
              "    <tr>\n",
              "      <th>2155</th>\n",
              "      <td>4236</td>\n",
              "      <td>2003-12-31</td>\n",
              "      <td>Nothing</td>\n",
              "      <td>4000000</td>\n",
              "      <td>63180</td>\n",
              "      <td>0</td>\n",
              "    </tr>\n",
              "    <tr>\n",
              "      <th>2203</th>\n",
              "      <td>2513</td>\n",
              "      <td>2004-03-31</td>\n",
              "      <td>The Touch</td>\n",
              "      <td>20000000</td>\n",
              "      <td>5918742</td>\n",
              "      <td>0</td>\n",
              "    </tr>\n",
              "    <tr>\n",
              "      <th>...</th>\n",
              "      <td>...</td>\n",
              "      <td>...</td>\n",
              "      <td>...</td>\n",
              "      <td>...</td>\n",
              "      <td>...</td>\n",
              "      <td>...</td>\n",
              "    </tr>\n",
              "    <tr>\n",
              "      <th>5340</th>\n",
              "      <td>1506</td>\n",
              "      <td>2017-04-14</td>\n",
              "      <td>Queen of the Desert</td>\n",
              "      <td>36000000</td>\n",
              "      <td>1480089</td>\n",
              "      <td>0</td>\n",
              "    </tr>\n",
              "    <tr>\n",
              "      <th>5348</th>\n",
              "      <td>2225</td>\n",
              "      <td>2017-05-05</td>\n",
              "      <td>Chāi dàn zhuānjiā</td>\n",
              "      <td>23000000</td>\n",
              "      <td>58807172</td>\n",
              "      <td>0</td>\n",
              "    </tr>\n",
              "    <tr>\n",
              "      <th>5360</th>\n",
              "      <td>4832</td>\n",
              "      <td>2017-07-03</td>\n",
              "      <td>Departure</td>\n",
              "      <td>1100000</td>\n",
              "      <td>27561</td>\n",
              "      <td>0</td>\n",
              "    </tr>\n",
              "    <tr>\n",
              "      <th>5372</th>\n",
              "      <td>1856</td>\n",
              "      <td>2017-08-25</td>\n",
              "      <td>Ballerina</td>\n",
              "      <td>30000000</td>\n",
              "      <td>48048527</td>\n",
              "      <td>0</td>\n",
              "    </tr>\n",
              "    <tr>\n",
              "      <th>5374</th>\n",
              "      <td>4237</td>\n",
              "      <td>2017-08-25</td>\n",
              "      <td>Polina danser sa vie</td>\n",
              "      <td>4000000</td>\n",
              "      <td>36630</td>\n",
              "      <td>0</td>\n",
              "    </tr>\n",
              "  </tbody>\n",
              "</table>\n",
              "<p>155 rows × 6 columns</p>\n",
              "</div>"
            ],
            "text/plain": [
              "      Rank Release_Date              Movie_Title  USD_Production_Budget  \\\n",
              "71    4310   1956-02-16                 Carousel                3380000   \n",
              "1579  5087   2001-02-11  Everything Put Together                 500000   \n",
              "1744  3695   2001-12-31                 The Hole                7500000   \n",
              "2155  4236   2003-12-31                  Nothing                4000000   \n",
              "2203  2513   2004-03-31                The Touch               20000000   \n",
              "...    ...          ...                      ...                    ...   \n",
              "5340  1506   2017-04-14      Queen of the Desert               36000000   \n",
              "5348  2225   2017-05-05        Chāi dàn zhuānjiā               23000000   \n",
              "5360  4832   2017-07-03                Departure                1100000   \n",
              "5372  1856   2017-08-25                Ballerina               30000000   \n",
              "5374  4237   2017-08-25     Polina danser sa vie                4000000   \n",
              "\n",
              "      USD_Worldwide_Gross  USD_Domestic_Gross  \n",
              "71                   3220                   0  \n",
              "1579                 7890                   0  \n",
              "1744             10834406                   0  \n",
              "2155                63180                   0  \n",
              "2203              5918742                   0  \n",
              "...                   ...                 ...  \n",
              "5340              1480089                   0  \n",
              "5348             58807172                   0  \n",
              "5360                27561                   0  \n",
              "5372             48048527                   0  \n",
              "5374                36630                   0  \n",
              "\n",
              "[155 rows x 6 columns]"
            ]
          },
          "execution_count": 28,
          "metadata": {},
          "output_type": "execute_result"
        }
      ],
      "source": [
        "international_release = data.loc[(data['USD_Domestic_Gross']==0) & (data['USD_Worldwide_Gross']!=0)]\n",
        "international_release"
      ]
    },
    {
      "cell_type": "markdown",
      "metadata": {
        "id": "YruPjqLVPuiB"
      },
      "source": [
        "**Challenge**: Use the [`.query()` function](https://pandas.pydata.org/pandas-docs/stable/reference/api/pandas.DataFrame.query.html) to accomplish the same thing. Create a subset for international releases that had some worldwide gross revenue, but made zero revenue in the United States. \n",
        "\n",
        "Hint: This time you'll have to use the `and` keyword."
      ]
    },
    {
      "cell_type": "code",
      "execution_count": 29,
      "metadata": {
        "id": "Xvu-jTCwTavg"
      },
      "outputs": [
        {
          "data": {
            "text/html": [
              "<div>\n",
              "<style scoped>\n",
              "    .dataframe tbody tr th:only-of-type {\n",
              "        vertical-align: middle;\n",
              "    }\n",
              "\n",
              "    .dataframe tbody tr th {\n",
              "        vertical-align: top;\n",
              "    }\n",
              "\n",
              "    .dataframe thead th {\n",
              "        text-align: right;\n",
              "    }\n",
              "</style>\n",
              "<table border=\"1\" class=\"dataframe\">\n",
              "  <thead>\n",
              "    <tr style=\"text-align: right;\">\n",
              "      <th></th>\n",
              "      <th>Rank</th>\n",
              "      <th>Release_Date</th>\n",
              "      <th>Movie_Title</th>\n",
              "      <th>USD_Production_Budget</th>\n",
              "      <th>USD_Worldwide_Gross</th>\n",
              "      <th>USD_Domestic_Gross</th>\n",
              "    </tr>\n",
              "  </thead>\n",
              "  <tbody>\n",
              "    <tr>\n",
              "      <th>71</th>\n",
              "      <td>4310</td>\n",
              "      <td>1956-02-16</td>\n",
              "      <td>Carousel</td>\n",
              "      <td>3380000</td>\n",
              "      <td>3220</td>\n",
              "      <td>0</td>\n",
              "    </tr>\n",
              "    <tr>\n",
              "      <th>1579</th>\n",
              "      <td>5087</td>\n",
              "      <td>2001-02-11</td>\n",
              "      <td>Everything Put Together</td>\n",
              "      <td>500000</td>\n",
              "      <td>7890</td>\n",
              "      <td>0</td>\n",
              "    </tr>\n",
              "    <tr>\n",
              "      <th>1744</th>\n",
              "      <td>3695</td>\n",
              "      <td>2001-12-31</td>\n",
              "      <td>The Hole</td>\n",
              "      <td>7500000</td>\n",
              "      <td>10834406</td>\n",
              "      <td>0</td>\n",
              "    </tr>\n",
              "    <tr>\n",
              "      <th>2155</th>\n",
              "      <td>4236</td>\n",
              "      <td>2003-12-31</td>\n",
              "      <td>Nothing</td>\n",
              "      <td>4000000</td>\n",
              "      <td>63180</td>\n",
              "      <td>0</td>\n",
              "    </tr>\n",
              "    <tr>\n",
              "      <th>2203</th>\n",
              "      <td>2513</td>\n",
              "      <td>2004-03-31</td>\n",
              "      <td>The Touch</td>\n",
              "      <td>20000000</td>\n",
              "      <td>5918742</td>\n",
              "      <td>0</td>\n",
              "    </tr>\n",
              "    <tr>\n",
              "      <th>...</th>\n",
              "      <td>...</td>\n",
              "      <td>...</td>\n",
              "      <td>...</td>\n",
              "      <td>...</td>\n",
              "      <td>...</td>\n",
              "      <td>...</td>\n",
              "    </tr>\n",
              "    <tr>\n",
              "      <th>5340</th>\n",
              "      <td>1506</td>\n",
              "      <td>2017-04-14</td>\n",
              "      <td>Queen of the Desert</td>\n",
              "      <td>36000000</td>\n",
              "      <td>1480089</td>\n",
              "      <td>0</td>\n",
              "    </tr>\n",
              "    <tr>\n",
              "      <th>5348</th>\n",
              "      <td>2225</td>\n",
              "      <td>2017-05-05</td>\n",
              "      <td>Chāi dàn zhuānjiā</td>\n",
              "      <td>23000000</td>\n",
              "      <td>58807172</td>\n",
              "      <td>0</td>\n",
              "    </tr>\n",
              "    <tr>\n",
              "      <th>5360</th>\n",
              "      <td>4832</td>\n",
              "      <td>2017-07-03</td>\n",
              "      <td>Departure</td>\n",
              "      <td>1100000</td>\n",
              "      <td>27561</td>\n",
              "      <td>0</td>\n",
              "    </tr>\n",
              "    <tr>\n",
              "      <th>5372</th>\n",
              "      <td>1856</td>\n",
              "      <td>2017-08-25</td>\n",
              "      <td>Ballerina</td>\n",
              "      <td>30000000</td>\n",
              "      <td>48048527</td>\n",
              "      <td>0</td>\n",
              "    </tr>\n",
              "    <tr>\n",
              "      <th>5374</th>\n",
              "      <td>4237</td>\n",
              "      <td>2017-08-25</td>\n",
              "      <td>Polina danser sa vie</td>\n",
              "      <td>4000000</td>\n",
              "      <td>36630</td>\n",
              "      <td>0</td>\n",
              "    </tr>\n",
              "  </tbody>\n",
              "</table>\n",
              "<p>155 rows × 6 columns</p>\n",
              "</div>"
            ],
            "text/plain": [
              "      Rank Release_Date              Movie_Title  USD_Production_Budget  \\\n",
              "71    4310   1956-02-16                 Carousel                3380000   \n",
              "1579  5087   2001-02-11  Everything Put Together                 500000   \n",
              "1744  3695   2001-12-31                 The Hole                7500000   \n",
              "2155  4236   2003-12-31                  Nothing                4000000   \n",
              "2203  2513   2004-03-31                The Touch               20000000   \n",
              "...    ...          ...                      ...                    ...   \n",
              "5340  1506   2017-04-14      Queen of the Desert               36000000   \n",
              "5348  2225   2017-05-05        Chāi dàn zhuānjiā               23000000   \n",
              "5360  4832   2017-07-03                Departure                1100000   \n",
              "5372  1856   2017-08-25                Ballerina               30000000   \n",
              "5374  4237   2017-08-25     Polina danser sa vie                4000000   \n",
              "\n",
              "      USD_Worldwide_Gross  USD_Domestic_Gross  \n",
              "71                   3220                   0  \n",
              "1579                 7890                   0  \n",
              "1744             10834406                   0  \n",
              "2155                63180                   0  \n",
              "2203              5918742                   0  \n",
              "...                   ...                 ...  \n",
              "5340              1480089                   0  \n",
              "5348             58807172                   0  \n",
              "5360                27561                   0  \n",
              "5372             48048527                   0  \n",
              "5374                36630                   0  \n",
              "\n",
              "[155 rows x 6 columns]"
            ]
          },
          "execution_count": 29,
          "metadata": {},
          "output_type": "execute_result"
        }
      ],
      "source": [
        "data.query(\"USD_Worldwide_Gross!=0 and USD_Domestic_Gross==0\")"
      ]
    },
    {
      "cell_type": "markdown",
      "metadata": {
        "id": "EM-FTE4OZhfr"
      },
      "source": [
        "### Unreleased Films\n",
        "\n",
        "**Challenge**:\n",
        "* Identify which films were not released yet as of the time of data collection (May 1st, 2018).\n",
        "* How many films are included in the dataset that have not yet had a chance to be screened in the box office? \n",
        "* Create another DataFrame called data_clean that does not include these films. "
      ]
    },
    {
      "cell_type": "code",
      "execution_count": 30,
      "metadata": {
        "id": "PIukYVY9Zpxu"
      },
      "outputs": [],
      "source": [
        "# Date of Data Collection\n",
        "scrape_date = pd.Timestamp('2018-5-1')"
      ]
    },
    {
      "cell_type": "code",
      "execution_count": 31,
      "metadata": {
        "id": "OAI0VsM3Tc6v"
      },
      "outputs": [
        {
          "data": {
            "text/html": [
              "<div>\n",
              "<style scoped>\n",
              "    .dataframe tbody tr th:only-of-type {\n",
              "        vertical-align: middle;\n",
              "    }\n",
              "\n",
              "    .dataframe tbody tr th {\n",
              "        vertical-align: top;\n",
              "    }\n",
              "\n",
              "    .dataframe thead th {\n",
              "        text-align: right;\n",
              "    }\n",
              "</style>\n",
              "<table border=\"1\" class=\"dataframe\">\n",
              "  <thead>\n",
              "    <tr style=\"text-align: right;\">\n",
              "      <th></th>\n",
              "      <th>Rank</th>\n",
              "      <th>Release_Date</th>\n",
              "      <th>Movie_Title</th>\n",
              "      <th>USD_Production_Budget</th>\n",
              "      <th>USD_Worldwide_Gross</th>\n",
              "      <th>USD_Domestic_Gross</th>\n",
              "    </tr>\n",
              "  </thead>\n",
              "  <tbody>\n",
              "    <tr>\n",
              "      <th>5384</th>\n",
              "      <td>321</td>\n",
              "      <td>2018-09-03</td>\n",
              "      <td>A Wrinkle in Time</td>\n",
              "      <td>103000000</td>\n",
              "      <td>0</td>\n",
              "      <td>0</td>\n",
              "    </tr>\n",
              "    <tr>\n",
              "      <th>5385</th>\n",
              "      <td>366</td>\n",
              "      <td>2018-10-08</td>\n",
              "      <td>Amusement Park</td>\n",
              "      <td>100000000</td>\n",
              "      <td>0</td>\n",
              "      <td>0</td>\n",
              "    </tr>\n",
              "    <tr>\n",
              "      <th>5386</th>\n",
              "      <td>2950</td>\n",
              "      <td>2018-10-08</td>\n",
              "      <td>Meg</td>\n",
              "      <td>15000000</td>\n",
              "      <td>0</td>\n",
              "      <td>0</td>\n",
              "    </tr>\n",
              "    <tr>\n",
              "      <th>5387</th>\n",
              "      <td>126</td>\n",
              "      <td>2018-12-18</td>\n",
              "      <td>Aquaman</td>\n",
              "      <td>160000000</td>\n",
              "      <td>0</td>\n",
              "      <td>0</td>\n",
              "    </tr>\n",
              "    <tr>\n",
              "      <th>5388</th>\n",
              "      <td>96</td>\n",
              "      <td>2020-12-31</td>\n",
              "      <td>Singularity</td>\n",
              "      <td>175000000</td>\n",
              "      <td>0</td>\n",
              "      <td>0</td>\n",
              "    </tr>\n",
              "    <tr>\n",
              "      <th>5389</th>\n",
              "      <td>1119</td>\n",
              "      <td>2020-12-31</td>\n",
              "      <td>Hannibal the Conqueror</td>\n",
              "      <td>50000000</td>\n",
              "      <td>0</td>\n",
              "      <td>0</td>\n",
              "    </tr>\n",
              "    <tr>\n",
              "      <th>5390</th>\n",
              "      <td>2517</td>\n",
              "      <td>2020-12-31</td>\n",
              "      <td>Story of Bonnie and Clyde, The</td>\n",
              "      <td>20000000</td>\n",
              "      <td>0</td>\n",
              "      <td>0</td>\n",
              "    </tr>\n",
              "    <tr>\n",
              "      <th>5391</th>\n",
              "      <td>2517</td>\n",
              "      <td>2020-12-31</td>\n",
              "      <td>Story of Bonnie and Clyde, The</td>\n",
              "      <td>20000000</td>\n",
              "      <td>0</td>\n",
              "      <td>0</td>\n",
              "    </tr>\n",
              "  </tbody>\n",
              "</table>\n",
              "</div>"
            ],
            "text/plain": [
              "      Rank Release_Date                     Movie_Title  \\\n",
              "5384   321   2018-09-03               A Wrinkle in Time   \n",
              "5385   366   2018-10-08                  Amusement Park   \n",
              "5386  2950   2018-10-08                             Meg   \n",
              "5387   126   2018-12-18                         Aquaman   \n",
              "5388    96   2020-12-31                     Singularity   \n",
              "5389  1119   2020-12-31          Hannibal the Conqueror   \n",
              "5390  2517   2020-12-31  Story of Bonnie and Clyde, The   \n",
              "5391  2517   2020-12-31  Story of Bonnie and Clyde, The   \n",
              "\n",
              "      USD_Production_Budget  USD_Worldwide_Gross  USD_Domestic_Gross  \n",
              "5384              103000000                    0                   0  \n",
              "5385              100000000                    0                   0  \n",
              "5386               15000000                    0                   0  \n",
              "5387              160000000                    0                   0  \n",
              "5388              175000000                    0                   0  \n",
              "5389               50000000                    0                   0  \n",
              "5390               20000000                    0                   0  \n",
              "5391               20000000                    0                   0  "
            ]
          },
          "execution_count": 31,
          "metadata": {},
          "output_type": "execute_result"
        }
      ],
      "source": [
        "future_releases = data[data['Release_Date'] > scrape_date]\n",
        "future_releases"
      ]
    },
    {
      "cell_type": "code",
      "execution_count": 32,
      "metadata": {},
      "outputs": [
        {
          "data": {
            "text/html": [
              "<div>\n",
              "<style scoped>\n",
              "    .dataframe tbody tr th:only-of-type {\n",
              "        vertical-align: middle;\n",
              "    }\n",
              "\n",
              "    .dataframe tbody tr th {\n",
              "        vertical-align: top;\n",
              "    }\n",
              "\n",
              "    .dataframe thead th {\n",
              "        text-align: right;\n",
              "    }\n",
              "</style>\n",
              "<table border=\"1\" class=\"dataframe\">\n",
              "  <thead>\n",
              "    <tr style=\"text-align: right;\">\n",
              "      <th></th>\n",
              "      <th>Rank</th>\n",
              "      <th>Release_Date</th>\n",
              "      <th>Movie_Title</th>\n",
              "      <th>USD_Production_Budget</th>\n",
              "      <th>USD_Worldwide_Gross</th>\n",
              "      <th>USD_Domestic_Gross</th>\n",
              "    </tr>\n",
              "  </thead>\n",
              "  <tbody>\n",
              "    <tr>\n",
              "      <th>0</th>\n",
              "      <td>5293</td>\n",
              "      <td>1915-08-02</td>\n",
              "      <td>The Birth of a Nation</td>\n",
              "      <td>110000</td>\n",
              "      <td>11000000</td>\n",
              "      <td>10000000</td>\n",
              "    </tr>\n",
              "    <tr>\n",
              "      <th>1</th>\n",
              "      <td>5140</td>\n",
              "      <td>1916-05-09</td>\n",
              "      <td>Intolerance</td>\n",
              "      <td>385907</td>\n",
              "      <td>0</td>\n",
              "      <td>0</td>\n",
              "    </tr>\n",
              "    <tr>\n",
              "      <th>2</th>\n",
              "      <td>5230</td>\n",
              "      <td>1916-12-24</td>\n",
              "      <td>20,000 Leagues Under the Sea</td>\n",
              "      <td>200000</td>\n",
              "      <td>8000000</td>\n",
              "      <td>8000000</td>\n",
              "    </tr>\n",
              "    <tr>\n",
              "      <th>3</th>\n",
              "      <td>5299</td>\n",
              "      <td>1920-09-17</td>\n",
              "      <td>Over the Hill to the Poorhouse</td>\n",
              "      <td>100000</td>\n",
              "      <td>3000000</td>\n",
              "      <td>3000000</td>\n",
              "    </tr>\n",
              "    <tr>\n",
              "      <th>4</th>\n",
              "      <td>5222</td>\n",
              "      <td>1925-01-01</td>\n",
              "      <td>The Big Parade</td>\n",
              "      <td>245000</td>\n",
              "      <td>22000000</td>\n",
              "      <td>11000000</td>\n",
              "    </tr>\n",
              "    <tr>\n",
              "      <th>...</th>\n",
              "      <td>...</td>\n",
              "      <td>...</td>\n",
              "      <td>...</td>\n",
              "      <td>...</td>\n",
              "      <td>...</td>\n",
              "      <td>...</td>\n",
              "    </tr>\n",
              "    <tr>\n",
              "      <th>5379</th>\n",
              "      <td>1295</td>\n",
              "      <td>2017-10-02</td>\n",
              "      <td>John Wick: Chapter Two</td>\n",
              "      <td>40000000</td>\n",
              "      <td>166893990</td>\n",
              "      <td>92029184</td>\n",
              "    </tr>\n",
              "    <tr>\n",
              "      <th>5380</th>\n",
              "      <td>70</td>\n",
              "      <td>2017-10-03</td>\n",
              "      <td>Kong: Skull Island</td>\n",
              "      <td>185000000</td>\n",
              "      <td>561137727</td>\n",
              "      <td>168052812</td>\n",
              "    </tr>\n",
              "    <tr>\n",
              "      <th>5381</th>\n",
              "      <td>94</td>\n",
              "      <td>2017-12-05</td>\n",
              "      <td>King Arthur: Legend of the Sword</td>\n",
              "      <td>175000000</td>\n",
              "      <td>140012608</td>\n",
              "      <td>39175066</td>\n",
              "    </tr>\n",
              "    <tr>\n",
              "      <th>5382</th>\n",
              "      <td>1254</td>\n",
              "      <td>2017-12-05</td>\n",
              "      <td>Snatched</td>\n",
              "      <td>42000000</td>\n",
              "      <td>57850343</td>\n",
              "      <td>45850343</td>\n",
              "    </tr>\n",
              "    <tr>\n",
              "      <th>5383</th>\n",
              "      <td>2521</td>\n",
              "      <td>2017-12-31</td>\n",
              "      <td>The Thousand Miles</td>\n",
              "      <td>20000000</td>\n",
              "      <td>0</td>\n",
              "      <td>0</td>\n",
              "    </tr>\n",
              "  </tbody>\n",
              "</table>\n",
              "<p>5384 rows × 6 columns</p>\n",
              "</div>"
            ],
            "text/plain": [
              "      Rank Release_Date                       Movie_Title  \\\n",
              "0     5293   1915-08-02             The Birth of a Nation   \n",
              "1     5140   1916-05-09                       Intolerance   \n",
              "2     5230   1916-12-24      20,000 Leagues Under the Sea   \n",
              "3     5299   1920-09-17    Over the Hill to the Poorhouse   \n",
              "4     5222   1925-01-01                    The Big Parade   \n",
              "...    ...          ...                               ...   \n",
              "5379  1295   2017-10-02            John Wick: Chapter Two   \n",
              "5380    70   2017-10-03                Kong: Skull Island   \n",
              "5381    94   2017-12-05  King Arthur: Legend of the Sword   \n",
              "5382  1254   2017-12-05                          Snatched   \n",
              "5383  2521   2017-12-31                The Thousand Miles   \n",
              "\n",
              "      USD_Production_Budget  USD_Worldwide_Gross  USD_Domestic_Gross  \n",
              "0                    110000             11000000            10000000  \n",
              "1                    385907                    0                   0  \n",
              "2                    200000              8000000             8000000  \n",
              "3                    100000              3000000             3000000  \n",
              "4                    245000             22000000            11000000  \n",
              "...                     ...                  ...                 ...  \n",
              "5379               40000000            166893990            92029184  \n",
              "5380              185000000            561137727           168052812  \n",
              "5381              175000000            140012608            39175066  \n",
              "5382               42000000             57850343            45850343  \n",
              "5383               20000000                    0                   0  \n",
              "\n",
              "[5384 rows x 6 columns]"
            ]
          },
          "execution_count": 32,
          "metadata": {},
          "output_type": "execute_result"
        }
      ],
      "source": [
        "cleaned_data = data.drop(future_releases.index)\n",
        "cleaned_data"
      ]
    },
    {
      "cell_type": "markdown",
      "metadata": {
        "id": "khrJcXlGZWZO"
      },
      "source": [
        "### Films that Lost Money\n",
        "\n",
        "**Challenge**: \n",
        "What is the percentage of films where the production costs exceeded the worldwide gross revenue? "
      ]
    },
    {
      "cell_type": "code",
      "execution_count": 33,
      "metadata": {
        "id": "7uW_U9StTgvZ"
      },
      "outputs": [
        {
          "data": {
            "text/html": [
              "<div>\n",
              "<style scoped>\n",
              "    .dataframe tbody tr th:only-of-type {\n",
              "        vertical-align: middle;\n",
              "    }\n",
              "\n",
              "    .dataframe tbody tr th {\n",
              "        vertical-align: top;\n",
              "    }\n",
              "\n",
              "    .dataframe thead th {\n",
              "        text-align: right;\n",
              "    }\n",
              "</style>\n",
              "<table border=\"1\" class=\"dataframe\">\n",
              "  <thead>\n",
              "    <tr style=\"text-align: right;\">\n",
              "      <th></th>\n",
              "      <th>Rank</th>\n",
              "      <th>Release_Date</th>\n",
              "      <th>Movie_Title</th>\n",
              "      <th>USD_Production_Budget</th>\n",
              "      <th>USD_Worldwide_Gross</th>\n",
              "      <th>USD_Domestic_Gross</th>\n",
              "    </tr>\n",
              "  </thead>\n",
              "  <tbody>\n",
              "    <tr>\n",
              "      <th>1</th>\n",
              "      <td>5140</td>\n",
              "      <td>1916-05-09</td>\n",
              "      <td>Intolerance</td>\n",
              "      <td>385907</td>\n",
              "      <td>0</td>\n",
              "      <td>0</td>\n",
              "    </tr>\n",
              "    <tr>\n",
              "      <th>6</th>\n",
              "      <td>4630</td>\n",
              "      <td>1927-12-08</td>\n",
              "      <td>Wings</td>\n",
              "      <td>2000000</td>\n",
              "      <td>0</td>\n",
              "      <td>0</td>\n",
              "    </tr>\n",
              "    <tr>\n",
              "      <th>8</th>\n",
              "      <td>4240</td>\n",
              "      <td>1930-01-01</td>\n",
              "      <td>Hell's Angels</td>\n",
              "      <td>4000000</td>\n",
              "      <td>0</td>\n",
              "      <td>0</td>\n",
              "    </tr>\n",
              "    <tr>\n",
              "      <th>15</th>\n",
              "      <td>4738</td>\n",
              "      <td>1936-05-02</td>\n",
              "      <td>Modern Times</td>\n",
              "      <td>1500000</td>\n",
              "      <td>165049</td>\n",
              "      <td>163245</td>\n",
              "    </tr>\n",
              "    <tr>\n",
              "      <th>17</th>\n",
              "      <td>4814</td>\n",
              "      <td>1936-10-20</td>\n",
              "      <td>Charge of the Light Brigade, The</td>\n",
              "      <td>1200000</td>\n",
              "      <td>0</td>\n",
              "      <td>0</td>\n",
              "    </tr>\n",
              "    <tr>\n",
              "      <th>...</th>\n",
              "      <td>...</td>\n",
              "      <td>...</td>\n",
              "      <td>...</td>\n",
              "      <td>...</td>\n",
              "      <td>...</td>\n",
              "      <td>...</td>\n",
              "    </tr>\n",
              "    <tr>\n",
              "      <th>5371</th>\n",
              "      <td>4901</td>\n",
              "      <td>2017-07-28</td>\n",
              "      <td>An Inconvenient Sequel</td>\n",
              "      <td>1000000</td>\n",
              "      <td>130874</td>\n",
              "      <td>130874</td>\n",
              "    </tr>\n",
              "    <tr>\n",
              "      <th>5373</th>\n",
              "      <td>2161</td>\n",
              "      <td>2017-08-25</td>\n",
              "      <td>Tulip Fever</td>\n",
              "      <td>25000000</td>\n",
              "      <td>0</td>\n",
              "      <td>0</td>\n",
              "    </tr>\n",
              "    <tr>\n",
              "      <th>5374</th>\n",
              "      <td>4237</td>\n",
              "      <td>2017-08-25</td>\n",
              "      <td>Polina danser sa vie</td>\n",
              "      <td>4000000</td>\n",
              "      <td>36630</td>\n",
              "      <td>0</td>\n",
              "    </tr>\n",
              "    <tr>\n",
              "      <th>5381</th>\n",
              "      <td>94</td>\n",
              "      <td>2017-12-05</td>\n",
              "      <td>King Arthur: Legend of the Sword</td>\n",
              "      <td>175000000</td>\n",
              "      <td>140012608</td>\n",
              "      <td>39175066</td>\n",
              "    </tr>\n",
              "    <tr>\n",
              "      <th>5383</th>\n",
              "      <td>2521</td>\n",
              "      <td>2017-12-31</td>\n",
              "      <td>The Thousand Miles</td>\n",
              "      <td>20000000</td>\n",
              "      <td>0</td>\n",
              "      <td>0</td>\n",
              "    </tr>\n",
              "  </tbody>\n",
              "</table>\n",
              "<p>2007 rows × 6 columns</p>\n",
              "</div>"
            ],
            "text/plain": [
              "      Rank Release_Date                       Movie_Title  \\\n",
              "1     5140   1916-05-09                       Intolerance   \n",
              "6     4630   1927-12-08                             Wings   \n",
              "8     4240   1930-01-01                     Hell's Angels   \n",
              "15    4738   1936-05-02                      Modern Times   \n",
              "17    4814   1936-10-20  Charge of the Light Brigade, The   \n",
              "...    ...          ...                               ...   \n",
              "5371  4901   2017-07-28            An Inconvenient Sequel   \n",
              "5373  2161   2017-08-25                       Tulip Fever   \n",
              "5374  4237   2017-08-25              Polina danser sa vie   \n",
              "5381    94   2017-12-05  King Arthur: Legend of the Sword   \n",
              "5383  2521   2017-12-31                The Thousand Miles   \n",
              "\n",
              "      USD_Production_Budget  USD_Worldwide_Gross  USD_Domestic_Gross  \n",
              "1                    385907                    0                   0  \n",
              "6                   2000000                    0                   0  \n",
              "8                   4000000                    0                   0  \n",
              "15                  1500000               165049              163245  \n",
              "17                  1200000                    0                   0  \n",
              "...                     ...                  ...                 ...  \n",
              "5371                1000000               130874              130874  \n",
              "5373               25000000                    0                   0  \n",
              "5374                4000000                36630                   0  \n",
              "5381              175000000            140012608            39175066  \n",
              "5383               20000000                    0                   0  \n",
              "\n",
              "[2007 rows x 6 columns]"
            ]
          },
          "execution_count": 33,
          "metadata": {},
          "output_type": "execute_result"
        }
      ],
      "source": [
        "flopped_movies = cleaned_data[cleaned_data['USD_Production_Budget'] > cleaned_data['USD_Worldwide_Gross']]\n",
        "flopped_movies"
      ]
    },
    {
      "cell_type": "code",
      "execution_count": 34,
      "metadata": {},
      "outputs": [
        {
          "name": "stdout",
          "output_type": "stream",
          "text": [
            "Percentage of movies flopped: 37.28\n"
          ]
        }
      ],
      "source": [
        "print(f\"Percentage of movies flopped: {((len(flopped_movies)/len(cleaned_data))*100):.2f}\")"
      ]
    },
    {
      "cell_type": "markdown",
      "metadata": {
        "id": "cfJUL3WwyiDy"
      },
      "source": [
        "# Seaborn for Data Viz: Bubble Charts"
      ]
    },
    {
      "cell_type": "code",
      "execution_count": 35,
      "metadata": {
        "id": "YXa3bp1uTiSS"
      },
      "outputs": [
        {
          "data": {
            "image/png": "[encoded data removed]",
            "text/plain": [
              "<Figure size 1600x800 with 1 Axes>"
            ]
          },
          "metadata": {},
          "output_type": "display_data"
        }
      ],
      "source": [
        "plt.figure(figsize=(8,4), dpi=200)\n",
        "\n",
        "# some themes for axes_styles are ticks, darkgrid, whitegrid, dark and white\n",
        "with sns.axes_style(\"ticks\"):\n",
        "    ax = sns.scatterplot(\n",
        "        data=cleaned_data,\n",
        "        x='USD_Production_Budget',\n",
        "        y='USD_Worldwide_Gross',\n",
        "        hue='USD_Worldwide_Gross',\n",
        "        size='USD_Worldwide_Gross',\n",
        "                        )\n",
        "\n",
        "    ax.set(\n",
        "        xlabel='Budget  (in 100 million) $',\n",
        "        ylabel='Wordlwide Grossing (in billion $)'\n",
        "        )\n",
        "\n",
        "plt.show()"
      ]
    },
    {
      "cell_type": "markdown",
      "metadata": {
        "id": "e7NIOiL2y3en"
      },
      "source": [
        "### Plotting Movie Releases over Time\n",
        "\n",
        "**Challenge**: Try to create the following Bubble Chart:\n",
        "\n",
        "<img src=https://i.imgur.com/8fUn9T6.png>\n",
        "\n"
      ]
    },
    {
      "cell_type": "code",
      "execution_count": 36,
      "metadata": {
        "id": "OT0D-i3HTmsB"
      },
      "outputs": [
        {
          "data": {
            "image/png": "[encoded data removed]",
            "text/plain": [
              "<Figure size 640x480 with 1 Axes>"
            ]
          },
          "metadata": {},
          "output_type": "display_data"
        }
      ],
      "source": [
        "with sns.axes_style(\"darkgrid\"):\n",
        "    \n",
        "    ax = sns.scatterplot(\n",
        "        data = cleaned_data,\n",
        "        x = 'Release_Date',\n",
        "        y='USD_Production_Budget',\n",
        "        hue='USD_Worldwide_Gross',\n",
        "        size='USD_Worldwide_Gross',\n",
        "    )\n",
        "\n",
        "    ax.set(\n",
        "        xlabel = \"Years\",\n",
        "        ylabel = \"Production Budget (in 100 million $)\",\n",
        "        xlim = (cleaned_data[\"Release_Date\"].min(), cleaned_data[\"Release_Date\"].max()),\n",
        "        ylim = (cleaned_data[\"USD_Production_Budget\"].min(), cleaned_data[\"USD_Production_Budget\"].max())\n",
        "    )"
      ]
    },
    {
      "cell_type": "markdown",
      "metadata": {
        "id": "r_2hFz9py84b"
      },
      "source": [
        "# Converting Years to Decades Trick\n",
        "\n",
        "**Challenge**: Create a column in `data_clean` that has the decade of the release. \n",
        "\n",
        "<img src=https://i.imgur.com/0VEfagw.png width=650> \n",
        "\n",
        "Here's how: \n",
        "1. Create a [`DatetimeIndex` object](https://pandas.pydata.org/pandas-docs/stable/reference/api/pandas.DatetimeIndex.html) from the Release_Date column. \n",
        "2. Grab all the years from the `DatetimeIndex` object using the `.year` property.\n",
        "<img src=https://i.imgur.com/5m06Ach.png width=650>\n",
        "3. Use floor division `//` to convert the year data to the decades of the films.\n",
        "4. Add the decades as a `Decade` column to the `data_clean` DataFrame."
      ]
    },
    {
      "cell_type": "code",
      "execution_count": 37,
      "metadata": {
        "id": "lak08IPMTn-j"
      },
      "outputs": [
        {
          "data": {
            "text/html": [
              "<div>\n",
              "<style scoped>\n",
              "    .dataframe tbody tr th:only-of-type {\n",
              "        vertical-align: middle;\n",
              "    }\n",
              "\n",
              "    .dataframe tbody tr th {\n",
              "        vertical-align: top;\n",
              "    }\n",
              "\n",
              "    .dataframe thead th {\n",
              "        text-align: right;\n",
              "    }\n",
              "</style>\n",
              "<table border=\"1\" class=\"dataframe\">\n",
              "  <thead>\n",
              "    <tr style=\"text-align: right;\">\n",
              "      <th></th>\n",
              "      <th>Rank</th>\n",
              "      <th>Release_Date</th>\n",
              "      <th>Movie_Title</th>\n",
              "      <th>USD_Production_Budget</th>\n",
              "      <th>USD_Worldwide_Gross</th>\n",
              "      <th>USD_Domestic_Gross</th>\n",
              "      <th>Decades</th>\n",
              "    </tr>\n",
              "  </thead>\n",
              "  <tbody>\n",
              "    <tr>\n",
              "      <th>0</th>\n",
              "      <td>5293</td>\n",
              "      <td>1915-08-02</td>\n",
              "      <td>The Birth of a Nation</td>\n",
              "      <td>110000</td>\n",
              "      <td>11000000</td>\n",
              "      <td>10000000</td>\n",
              "      <td>1910</td>\n",
              "    </tr>\n",
              "    <tr>\n",
              "      <th>1</th>\n",
              "      <td>5140</td>\n",
              "      <td>1916-05-09</td>\n",
              "      <td>Intolerance</td>\n",
              "      <td>385907</td>\n",
              "      <td>0</td>\n",
              "      <td>0</td>\n",
              "      <td>1910</td>\n",
              "    </tr>\n",
              "    <tr>\n",
              "      <th>2</th>\n",
              "      <td>5230</td>\n",
              "      <td>1916-12-24</td>\n",
              "      <td>20,000 Leagues Under the Sea</td>\n",
              "      <td>200000</td>\n",
              "      <td>8000000</td>\n",
              "      <td>8000000</td>\n",
              "      <td>1910</td>\n",
              "    </tr>\n",
              "    <tr>\n",
              "      <th>3</th>\n",
              "      <td>5299</td>\n",
              "      <td>1920-09-17</td>\n",
              "      <td>Over the Hill to the Poorhouse</td>\n",
              "      <td>100000</td>\n",
              "      <td>3000000</td>\n",
              "      <td>3000000</td>\n",
              "      <td>1920</td>\n",
              "    </tr>\n",
              "    <tr>\n",
              "      <th>4</th>\n",
              "      <td>5222</td>\n",
              "      <td>1925-01-01</td>\n",
              "      <td>The Big Parade</td>\n",
              "      <td>245000</td>\n",
              "      <td>22000000</td>\n",
              "      <td>11000000</td>\n",
              "      <td>1920</td>\n",
              "    </tr>\n",
              "    <tr>\n",
              "      <th>...</th>\n",
              "      <td>...</td>\n",
              "      <td>...</td>\n",
              "      <td>...</td>\n",
              "      <td>...</td>\n",
              "      <td>...</td>\n",
              "      <td>...</td>\n",
              "      <td>...</td>\n",
              "    </tr>\n",
              "    <tr>\n",
              "      <th>5379</th>\n",
              "      <td>1295</td>\n",
              "      <td>2017-10-02</td>\n",
              "      <td>John Wick: Chapter Two</td>\n",
              "      <td>40000000</td>\n",
              "      <td>166893990</td>\n",
              "      <td>92029184</td>\n",
              "      <td>2010</td>\n",
              "    </tr>\n",
              "    <tr>\n",
              "      <th>5380</th>\n",
              "      <td>70</td>\n",
              "      <td>2017-10-03</td>\n",
              "      <td>Kong: Skull Island</td>\n",
              "      <td>185000000</td>\n",
              "      <td>561137727</td>\n",
              "      <td>168052812</td>\n",
              "      <td>2010</td>\n",
              "    </tr>\n",
              "    <tr>\n",
              "      <th>5381</th>\n",
              "      <td>94</td>\n",
              "      <td>2017-12-05</td>\n",
              "      <td>King Arthur: Legend of the Sword</td>\n",
              "      <td>175000000</td>\n",
              "      <td>140012608</td>\n",
              "      <td>39175066</td>\n",
              "      <td>2010</td>\n",
              "    </tr>\n",
              "    <tr>\n",
              "      <th>5382</th>\n",
              "      <td>1254</td>\n",
              "      <td>2017-12-05</td>\n",
              "      <td>Snatched</td>\n",
              "      <td>42000000</td>\n",
              "      <td>57850343</td>\n",
              "      <td>45850343</td>\n",
              "      <td>2010</td>\n",
              "    </tr>\n",
              "    <tr>\n",
              "      <th>5383</th>\n",
              "      <td>2521</td>\n",
              "      <td>2017-12-31</td>\n",
              "      <td>The Thousand Miles</td>\n",
              "      <td>20000000</td>\n",
              "      <td>0</td>\n",
              "      <td>0</td>\n",
              "      <td>2010</td>\n",
              "    </tr>\n",
              "  </tbody>\n",
              "</table>\n",
              "<p>5384 rows × 7 columns</p>\n",
              "</div>"
            ],
            "text/plain": [
              "      Rank Release_Date                       Movie_Title  \\\n",
              "0     5293   1915-08-02             The Birth of a Nation   \n",
              "1     5140   1916-05-09                       Intolerance   \n",
              "2     5230   1916-12-24      20,000 Leagues Under the Sea   \n",
              "3     5299   1920-09-17    Over the Hill to the Poorhouse   \n",
              "4     5222   1925-01-01                    The Big Parade   \n",
              "...    ...          ...                               ...   \n",
              "5379  1295   2017-10-02            John Wick: Chapter Two   \n",
              "5380    70   2017-10-03                Kong: Skull Island   \n",
              "5381    94   2017-12-05  King Arthur: Legend of the Sword   \n",
              "5382  1254   2017-12-05                          Snatched   \n",
              "5383  2521   2017-12-31                The Thousand Miles   \n",
              "\n",
              "      USD_Production_Budget  USD_Worldwide_Gross  USD_Domestic_Gross  Decades  \n",
              "0                    110000             11000000            10000000     1910  \n",
              "1                    385907                    0                   0     1910  \n",
              "2                    200000              8000000             8000000     1910  \n",
              "3                    100000              3000000             3000000     1920  \n",
              "4                    245000             22000000            11000000     1920  \n",
              "...                     ...                  ...                 ...      ...  \n",
              "5379               40000000            166893990            92029184     2010  \n",
              "5380              185000000            561137727           168052812     2010  \n",
              "5381              175000000            140012608            39175066     2010  \n",
              "5382               42000000             57850343            45850343     2010  \n",
              "5383               20000000                    0                   0     2010  \n",
              "\n",
              "[5384 rows x 7 columns]"
            ]
          },
          "execution_count": 37,
          "metadata": {},
          "output_type": "execute_result"
        }
      ],
      "source": [
        "dt_indices = pd.DatetimeIndex(cleaned_data[\"Release_Date\"])\n",
        "years = dt_indices.year\n",
        "decades = (years//10)*10\n",
        "cleaned_data[\"Decades\"] = decades\n",
        "cleaned_data"
      ]
    },
    {
      "cell_type": "code",
      "execution_count": 38,
      "metadata": {},
      "outputs": [],
      "source": [
        "old_movies = cleaned_data.query('Decades <= 1960')\n",
        "new_movies = cleaned_data.query('Decades > 1960')"
      ]
    },
    {
      "cell_type": "code",
      "execution_count": 39,
      "metadata": {},
      "outputs": [
        {
          "data": {
            "text/plain": [
              "(153, 7)"
            ]
          },
          "execution_count": 39,
          "metadata": {},
          "output_type": "execute_result"
        }
      ],
      "source": [
        "old_movies.shape"
      ]
    },
    {
      "cell_type": "code",
      "execution_count": 40,
      "metadata": {},
      "outputs": [
        {
          "data": {
            "text/plain": [
              "(5231, 7)"
            ]
          },
          "execution_count": 40,
          "metadata": {},
          "output_type": "execute_result"
        }
      ],
      "source": [
        "new_movies.shape"
      ]
    },
    {
      "cell_type": "code",
      "execution_count": 41,
      "metadata": {},
      "outputs": [
        {
          "data": {
            "text/html": [
              "<div>\n",
              "<style scoped>\n",
              "    .dataframe tbody tr th:only-of-type {\n",
              "        vertical-align: middle;\n",
              "    }\n",
              "\n",
              "    .dataframe tbody tr th {\n",
              "        vertical-align: top;\n",
              "    }\n",
              "\n",
              "    .dataframe thead th {\n",
              "        text-align: right;\n",
              "    }\n",
              "</style>\n",
              "<table border=\"1\" class=\"dataframe\">\n",
              "  <thead>\n",
              "    <tr style=\"text-align: right;\">\n",
              "      <th></th>\n",
              "      <th>Rank</th>\n",
              "      <th>Release_Date</th>\n",
              "      <th>Movie_Title</th>\n",
              "      <th>USD_Production_Budget</th>\n",
              "      <th>USD_Worldwide_Gross</th>\n",
              "      <th>USD_Domestic_Gross</th>\n",
              "      <th>Decades</th>\n",
              "    </tr>\n",
              "  </thead>\n",
              "  <tbody>\n",
              "    <tr>\n",
              "      <th>109</th>\n",
              "      <td>1253</td>\n",
              "      <td>1963-12-06</td>\n",
              "      <td>Cleopatra</td>\n",
              "      <td>42000000</td>\n",
              "      <td>71000000</td>\n",
              "      <td>57000000</td>\n",
              "      <td>1960</td>\n",
              "    </tr>\n",
              "  </tbody>\n",
              "</table>\n",
              "</div>"
            ],
            "text/plain": [
              "     Rank Release_Date Movie_Title  USD_Production_Budget  \\\n",
              "109  1253   1963-12-06   Cleopatra               42000000   \n",
              "\n",
              "     USD_Worldwide_Gross  USD_Domestic_Gross  Decades  \n",
              "109             71000000            57000000     1960  "
            ]
          },
          "execution_count": 41,
          "metadata": {},
          "output_type": "execute_result"
        }
      ],
      "source": [
        "old_movies[old_movies[\"USD_Production_Budget\"] == old_movies[\"USD_Production_Budget\"].max()]"
      ]
    },
    {
      "cell_type": "code",
      "execution_count": 42,
      "metadata": {},
      "outputs": [
        {
          "data": {
            "text/html": [
              "<div>\n",
              "<style scoped>\n",
              "    .dataframe tbody tr th:only-of-type {\n",
              "        vertical-align: middle;\n",
              "    }\n",
              "\n",
              "    .dataframe tbody tr th {\n",
              "        vertical-align: top;\n",
              "    }\n",
              "\n",
              "    .dataframe thead th {\n",
              "        text-align: right;\n",
              "    }\n",
              "</style>\n",
              "<table border=\"1\" class=\"dataframe\">\n",
              "  <thead>\n",
              "    <tr style=\"text-align: right;\">\n",
              "      <th></th>\n",
              "      <th>Rank</th>\n",
              "      <th>Release_Date</th>\n",
              "      <th>Movie_Title</th>\n",
              "      <th>USD_Production_Budget</th>\n",
              "      <th>USD_Worldwide_Gross</th>\n",
              "      <th>USD_Domestic_Gross</th>\n",
              "      <th>Decades</th>\n",
              "    </tr>\n",
              "  </thead>\n",
              "  <tbody>\n",
              "    <tr>\n",
              "      <th>3</th>\n",
              "      <td>5299</td>\n",
              "      <td>1920-09-17</td>\n",
              "      <td>Over the Hill to the Poorhouse</td>\n",
              "      <td>100000</td>\n",
              "      <td>3000000</td>\n",
              "      <td>3000000</td>\n",
              "      <td>1920</td>\n",
              "    </tr>\n",
              "    <tr>\n",
              "      <th>0</th>\n",
              "      <td>5293</td>\n",
              "      <td>1915-08-02</td>\n",
              "      <td>The Birth of a Nation</td>\n",
              "      <td>110000</td>\n",
              "      <td>11000000</td>\n",
              "      <td>10000000</td>\n",
              "      <td>1910</td>\n",
              "    </tr>\n",
              "    <tr>\n",
              "      <th>135</th>\n",
              "      <td>5292</td>\n",
              "      <td>1968-01-10</td>\n",
              "      <td>Night of the Living Dead</td>\n",
              "      <td>114000</td>\n",
              "      <td>30000000</td>\n",
              "      <td>12000000</td>\n",
              "      <td>1960</td>\n",
              "    </tr>\n",
              "    <tr>\n",
              "      <th>29</th>\n",
              "      <td>5283</td>\n",
              "      <td>1942-11-16</td>\n",
              "      <td>Cat People</td>\n",
              "      <td>134000</td>\n",
              "      <td>8000000</td>\n",
              "      <td>4000000</td>\n",
              "      <td>1940</td>\n",
              "    </tr>\n",
              "    <tr>\n",
              "      <th>147</th>\n",
              "      <td>5228</td>\n",
              "      <td>1969-07-25</td>\n",
              "      <td>The Stewardesses</td>\n",
              "      <td>200000</td>\n",
              "      <td>25000000</td>\n",
              "      <td>13500000</td>\n",
              "      <td>1960</td>\n",
              "    </tr>\n",
              "  </tbody>\n",
              "</table>\n",
              "</div>"
            ],
            "text/plain": [
              "     Rank Release_Date                     Movie_Title  USD_Production_Budget  \\\n",
              "3    5299   1920-09-17  Over the Hill to the Poorhouse                 100000   \n",
              "0    5293   1915-08-02           The Birth of a Nation                 110000   \n",
              "135  5292   1968-01-10        Night of the Living Dead                 114000   \n",
              "29   5283   1942-11-16                      Cat People                 134000   \n",
              "147  5228   1969-07-25                The Stewardesses                 200000   \n",
              "\n",
              "     USD_Worldwide_Gross  USD_Domestic_Gross  Decades  \n",
              "3                3000000             3000000     1920  \n",
              "0               11000000            10000000     1910  \n",
              "135             30000000            12000000     1960  \n",
              "29               8000000             4000000     1940  \n",
              "147             25000000            13500000     1960  "
            ]
          },
          "execution_count": 42,
          "metadata": {},
          "output_type": "execute_result"
        }
      ],
      "source": [
        "old_movies.sort_values(\"USD_Production_Budget\", ascending=True).head()"
      ]
    },
    {
      "cell_type": "code",
      "execution_count": 43,
      "metadata": {},
      "outputs": [
        {
          "data": {
            "image/png": "[encoded data removed]",
            "text/plain": [
              "<Figure size 640x480 with 1 Axes>"
            ]
          },
          "metadata": {},
          "output_type": "display_data"
        }
      ],
      "source": [
        "with sns.axes_style(\"darkgrid\"):\n",
        "    ax = sns.regplot(\n",
        "        data = old_movies,\n",
        "        x = 'USD_Production_Budget',\n",
        "        y = 'USD_Worldwide_Gross',\n",
        "        line_kws= {\n",
        "            \"color\" : 'black'\n",
        "        },\n",
        "        scatter_kws= {\n",
        "            \"alpha\" : 0.4\n",
        "        }\n",
        "    )\n",
        "\n",
        "    ax.set(\n",
        "        xlabel = \"Budget (in 100 million$)\",\n",
        "        ylabel = \"Worldwide Gross (in Billion $)\"\n",
        "    )"
      ]
    },
    {
      "cell_type": "code",
      "execution_count": 44,
      "metadata": {},
      "outputs": [
        {
          "data": {
            "image/png": "[encoded data removed]",
            "text/plain": [
              "<Figure size 640x480 with 1 Axes>"
            ]
          },
          "metadata": {},
          "output_type": "display_data"
        }
      ],
      "source": [
        "with sns.axes_style(\"darkgrid\"):\n",
        "    ax = sns.regplot(\n",
        "        data = new_movies,\n",
        "        x = 'USD_Production_Budget',\n",
        "        y = 'USD_Worldwide_Gross',\n",
        "        line_kws= {\n",
        "            \"color\" : \"#ff7c43\"\n",
        "        },\n",
        "        scatter_kws= {\n",
        "            \"alpha\" : 0.4,\n",
        "            \"color\" : \"#2f4b7c\"\n",
        "        }\n",
        "    )\n",
        "\n",
        "    ax.set(\n",
        "        xlabel = \"Budget (in 100 million$)\",\n",
        "        ylabel = \"Worldwide Gross (in Billion $)\"\n",
        "    )"
      ]
    },
    {
      "cell_type": "markdown",
      "metadata": {
        "id": "msXABzF3zW7e"
      },
      "source": [
        "# Seaborn Regression Plots"
      ]
    },
    {
      "cell_type": "code",
      "execution_count": null,
      "metadata": {
        "id": "2ajPcWMJTsom"
      },
      "outputs": [],
      "source": []
    },
    {
      "cell_type": "markdown",
      "metadata": {
        "id": "6k4MeLmxWFwX"
      },
      "source": [
        "**Challenge**: Use Seaborn's `.regplot()` to show the scatter plot and linear regression line against the `new_films`. \n",
        "<br>\n",
        "<br>\n",
        "Style the chart\n",
        "\n",
        "* Put the chart on a `'darkgrid'`.\n",
        "* Set limits on the axes so that they don't show negative values.\n",
        "* Label the axes on the plot \"Revenue in \\$ billions\" and \"Budget in \\$ millions\".\n",
        "* Provide HEX colour codes for the plot and the regression line. Make the dots dark blue (#2f4b7c) and the line orange (#ff7c43).\n",
        "\n",
        "Interpret the chart\n",
        "\n",
        "* Do our data points for the new films align better or worse with the linear regression than for our older films?\n",
        "* Roughly how much would a film with a budget of $150 million make according to the regression line?"
      ]
    },
    {
      "cell_type": "code",
      "execution_count": null,
      "metadata": {
        "id": "6cOVsxqvTui2"
      },
      "outputs": [],
      "source": []
    },
    {
      "cell_type": "markdown",
      "metadata": {
        "id": "Q1SUPPMAzlVK"
      },
      "source": [
        "# Run Your Own Regression with scikit-learn\n",
        "\n",
        "$$ REV \\hat ENUE = \\theta _0 + \\theta _1 BUDGET$$"
      ]
    },
    {
      "cell_type": "code",
      "execution_count": 46,
      "metadata": {},
      "outputs": [],
      "source": [
        "from sklearn.linear_model import LinearRegression"
      ]
    },
    {
      "cell_type": "code",
      "execution_count": 52,
      "metadata": {
        "id": "QmX-wMMLTwBW"
      },
      "outputs": [],
      "source": [
        "X = pd.DataFrame(new_movies, columns=[\"USD_Production_Budget\"])\n",
        "y = pd.DataFrame(new_movies, columns=[\"USD_Worldwide_Gross\"])"
      ]
    },
    {
      "cell_type": "code",
      "execution_count": 53,
      "metadata": {},
      "outputs": [
        {
          "name": "stdout",
          "output_type": "stream",
          "text": [
            "Theta-0 : [-8650768.00661042]\n",
            "Theta-1 : [[3.12259592]]\n"
          ]
        }
      ],
      "source": [
        "model = LinearRegression()\n",
        "model.fit(X, y)\n",
        "print(f\"Theta-0 : {model.intercept_}\")\n",
        "print(f\"Theta-1 : {model.coef_}\")"
      ]
    },
    {
      "cell_type": "code",
      "execution_count": 58,
      "metadata": {},
      "outputs": [
        {
          "data": {
            "text/plain": [
              "0.5577032617720403"
            ]
          },
          "execution_count": 58,
          "metadata": {},
          "output_type": "execute_result"
        }
      ],
      "source": [
        "model.score(X, y)"
      ]
    },
    {
      "cell_type": "markdown",
      "metadata": {
        "id": "o23E9iT1RHQ1"
      },
      "source": [
        "**Challenge**: Run a linear regression for the `old_films`. Calculate the intercept, slope and r-squared. How much of the variance in movie revenue does the linear model explain in this case?"
      ]
    },
    {
      "cell_type": "code",
      "execution_count": 59,
      "metadata": {
        "id": "Sd43DJNDT0yQ"
      },
      "outputs": [],
      "source": [
        "X = pd.DataFrame(old_movies, columns=[\"USD_Production_Budget\"])\n",
        "y = pd.DataFrame(old_movies, columns=[\"USD_Worldwide_Gross\"])"
      ]
    },
    {
      "cell_type": "code",
      "execution_count": 62,
      "metadata": {
        "id": "ygKsLBx5Rs7t"
      },
      "outputs": [
        {
          "name": "stdout",
          "output_type": "stream",
          "text": [
            "Theta-0 : [22821538.63508039]\n",
            "Theta-1 : [[1.64771314]]\n"
          ]
        }
      ],
      "source": [
        "model2 = LinearRegression()\n",
        "model2.fit(X, y)\n",
        "print(f\"Theta-0 : {model2.intercept_}\")\n",
        "print(f\"Theta-1 : {model2.coef_}\")"
      ]
    },
    {
      "cell_type": "code",
      "execution_count": 63,
      "metadata": {},
      "outputs": [
        {
          "data": {
            "text/plain": [
              "0.02937258620576877"
            ]
          },
          "execution_count": 63,
          "metadata": {},
          "output_type": "execute_result"
        }
      ],
      "source": [
        "model2.score(X, y)"
      ]
    },
    {
      "cell_type": "markdown",
      "metadata": {
        "id": "hoD3PeG75p78"
      },
      "source": [
        "# Use Your Model to Make a Prediction\n",
        "\n",
        "We just estimated the slope and intercept! Remember that our Linear Model has the following form:\n",
        "\n",
        "$$ REV \\hat ENUE = \\theta _0 + \\theta _1 BUDGET$$\n",
        "\n",
        "**Challenge**:  How much global revenue does our model estimate for a film with a budget of $350 million? "
      ]
    },
    {
      "cell_type": "code",
      "execution_count": 66,
      "metadata": {
        "id": "fX4I4h5i5rgF"
      },
      "outputs": [
        {
          "name": "stderr",
          "output_type": "stream",
          "text": [
            "C:\\Users\\Ashok Bhatt\\AppData\\Roaming\\Python\\Python311\\site-packages\\sklearn\\base.py:493: UserWarning: X does not have valid feature names, but LinearRegression was fitted with feature names\n",
            "  warnings.warn(\n"
          ]
        },
        {
          "data": {
            "text/plain": [
              "array([[5.99521139e+08]])"
            ]
          },
          "execution_count": 66,
          "metadata": {},
          "output_type": "execute_result"
        }
      ],
      "source": [
        "model.predict([[350000000]])"
      ]
    },
    {
      "cell_type": "code",
      "execution_count": null,
      "metadata": {
        "id": "fB2Yp8ln5qfO"
      },
      "outputs": [],
      "source": []
    }
  ],
  "metadata": {
    "colab": {
      "name": "Seaborn and Linear Regression (start).ipynb",
      "provenance": []
    },
    "kernelspec": {
      "display_name": "Python 3",
      "name": "python3"
    },
    "language_info": {
      "codemirror_mode": {
        "name": "ipython",
        "version": 3
      },
      "file_extension": ".py",
      "mimetype": "text/x-python",
      "name": "python",
      "nbconvert_exporter": "python",
      "pygments_lexer": "ipython3",
      "version": "3.11.1"
    }
  },
  "nbformat": 4,
  "nbformat_minor": 0
}
